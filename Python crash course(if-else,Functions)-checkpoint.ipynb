{
 "cells": [
  {
   "cell_type": "markdown",
   "metadata": {},
   "source": [
    "5-8. Hello Admin: Make a list of five or more usernames, including the name 'admin' . Imagine you are writing code that will print a greeting to each user after they log in to a website . Loop through the list, and print a greeting to each user:\n",
    "•\tIf the username is 'admin', print a special greeting, such as Hello admin, would you like to see a status report?\n",
    "•\tOtherwise, print a generic greeting, such as Hello Eric, thank you for logging in again."
   ]
  },
  {
   "cell_type": "code",
   "execution_count": 2,
   "metadata": {},
   "outputs": [
    {
     "name": "stdout",
     "output_type": "stream",
     "text": [
      "hello hasan,thank you for logging in again\n",
      "hello hussain,thank you for logging in again\n",
      "hello hammad,thank you for logging in again\n",
      "hello khalid,thank you for logging in again\n",
      "Hello muneeb,would you like to see a status report?\n"
     ]
    }
   ],
   "source": [
    "usernames=[\"hasan\",\"hussain\",\"hammad\",\"khalid\",\"muneeb\"]\n",
    "for username in usernames:\n",
    "    if username==\"muneeb\":\n",
    "        print(\"Hello muneeb,would you like to see a status report?\")\n",
    "    else:\n",
    "        print(f\"hello {username},thank you for logging in again\")"
   ]
  },
  {
   "cell_type": "markdown",
   "metadata": {},
   "source": [
    "5-9. No Users: Add an if test to hello_admin.py to make sure the list of users is not empty .\n",
    "•\tIf the list is empty, print the message We need to find some users! \n",
    "•\tRemove all of the usernames from your list, and make sure the correct message is printed . "
   ]
  },
  {
   "cell_type": "code",
   "execution_count": 16,
   "metadata": {},
   "outputs": [
    {
     "name": "stdout",
     "output_type": "stream",
     "text": [
      "We need to find some users\n"
     ]
    }
   ],
   "source": [
    "usernames=[]\n",
    "if usernames:\n",
    "    for username in usernames:\n",
    "        if username==\"muneeb\":\n",
    "            print(\"Hello muneeb,would you like to see a status report?\")\n",
    "        elif usernames:\n",
    "            print(f\"hello {username},thank you for logging in again\")\n",
    "\n",
    "else:\n",
    "    print(\"We need to find some users\")"
   ]
  },
  {
   "cell_type": "markdown",
   "metadata": {},
   "source": [
    "5-10. Checking Usernames: Do the following to create a program that simulates how websites ensure that everyone has a unique username ."
   ]
  },
  {
   "cell_type": "code",
   "execution_count": 35,
   "metadata": {},
   "outputs": [
    {
     "name": "stdout",
     "output_type": "stream",
     "text": [
      "ammar is available\n",
      "saim is available\n",
      "ahsen is available\n",
      "khalid ,you have to select a new user name!\n",
      "hussain ,you have to select a new user name!\n"
     ]
    }
   ],
   "source": [
    "current_users = [\"hasan\",\"hussain\",\"hammad\",\"khalid\",\"sammad\"]\n",
    "new_users = [\"ammar\",\"saim\",\"ahsen\",\"khalid\",\"hussain\"]\n",
    "current_users_lower = [user.lower() for user in current_users]\n",
    "for new_user in new_users:\n",
    "    if new_user.lower() in current_users_lower:\n",
    "        print(f\"{new_user.lower()} ,you have to select a new user name!\")\n",
    "    else:\n",
    "        print(f\"{new_user.lower()} is available\")"
   ]
  },
  {
   "cell_type": "markdown",
   "metadata": {},
   "source": [
    "5-11. Ordinal Numbers: Ordinal numbers indicate their position in a list, such as 1st or 2nd . Most ordinal numbers end in th, except 1, 2, and 3 . •\tStore the numbers 1 through 9 in a list . •\tLoop through the list . •\tUse an if-elif-else chain inside the loop to print the proper ordinal ending for each number . Your output should read \"1st 2nd 3rd 4th 5th 6th 7th 8th 9th\", and each result should be on a separate line .\n"
   ]
  },
  {
   "cell_type": "code",
   "execution_count": 42,
   "metadata": {},
   "outputs": [
    {
     "name": "stdout",
     "output_type": "stream",
     "text": [
      "\n",
      "1st\n",
      "\n",
      "2nd\n",
      "\n",
      "3rd\n",
      "\n",
      "4th\n",
      "\n",
      "5th\n",
      "\n",
      "6th\n",
      "\n",
      "7th\n",
      "\n",
      "8th\n",
      "\n",
      "9th\n"
     ]
    }
   ],
   "source": [
    "ordinal_numbers = [\"1\",'2','3','4','5','6','7','8','9']\n",
    "for ordinal_number in ordinal_numbers:\n",
    "    if ordinal_number=='1':\n",
    "        print(\"\\n1st\")\n",
    "    elif ordinal_number=='2':\n",
    "        print(\"\\n2nd\")\n",
    "    elif ordinal_number=='3':\n",
    "        print(f\"\\n{ordinal_number}rd\")#or print(\"\\n3rd)\n",
    "    else:\n",
    "        print(f\"\\n{ordinal_number}th\")"
   ]
  },
  {
   "cell_type": "markdown",
   "metadata": {},
   "source": [
    "# #Functions"
   ]
  },
  {
   "cell_type": "markdown",
   "metadata": {},
   "source": [
    "8-3. T-Shirt: Write a function called make_shirt() that accepts a size and the text of a message that should be printed on the shirt . The function should print a sentence summarizing the size of the shirt and the message printed on it . Call the function once using positional arguments to make a shirt . Call the function a second time using keyword arguments ."
   ]
  },
  {
   "cell_type": "code",
   "execution_count": 43,
   "metadata": {},
   "outputs": [],
   "source": [
    "def make_shirt(size,text):\n",
    "    print(f\"THe size of shirt is {size} with the message {text}\")"
   ]
  },
  {
   "cell_type": "code",
   "execution_count": 45,
   "metadata": {},
   "outputs": [
    {
     "name": "stdout",
     "output_type": "stream",
     "text": [
      "THe size of shirt is medium with the message sarkaar\n"
     ]
    }
   ],
   "source": [
    "make_shirt(\"medium\",\"sarkaar\")#positional arguements"
   ]
  },
  {
   "cell_type": "code",
   "execution_count": 46,
   "metadata": {},
   "outputs": [
    {
     "name": "stdout",
     "output_type": "stream",
     "text": [
      "THe size of shirt is medium with the message sarkaar\n"
     ]
    }
   ],
   "source": [
    "make_shirt(text=\"sarkaar\",size=\"medium\")#keyword arguement"
   ]
  },
  {
   "cell_type": "code",
   "execution_count": null,
   "metadata": {},
   "outputs": [],
   "source": []
  },
  {
   "cell_type": "markdown",
   "metadata": {},
   "source": [
    "8-6. City Names: Write a function called city_country() that takes in the name of a city and its country . The function should return a string formatted like this:\n",
    "\"Santiago, Chile\"\n",
    "Call your function with at least three city-country pairs, and print the value that’s returned . "
   ]
  },
  {
   "cell_type": "code",
   "execution_count": 1,
   "metadata": {},
   "outputs": [
    {
     "name": "stdout",
     "output_type": "stream",
     "text": [
      "Enter city namesantigo\n",
      "enter country namechille\n",
      "santigo,chille\n",
      "Enter city namekarachi\n",
      "enter country namepakistan\n",
      "karachi,pakistan\n",
      "Enter city namechicago\n",
      "enter country nameusa\n",
      "chicago,usa\n"
     ]
    }
   ],
   "source": [
    "def city_country(city,country):\n",
    "    pair=(city+\",\"+country)\n",
    "    return pair\n",
    "n=3\n",
    "while n>0:\n",
    "    city=input(\"Enter city name\")\n",
    "    country=input(\"enter country name\")\n",
    "    a=city_country(city,country)\n",
    "    print(a)\n",
    "    n=n-1"
   ]
  },
  {
   "cell_type": "code",
   "execution_count": null,
   "metadata": {},
   "outputs": [],
   "source": []
  },
  {
   "cell_type": "markdown",
   "metadata": {},
   "source": [
    "8-7. Album: Write a function called make_album() that builds a dictionary describing a music album . The function should take in an artist name and an album title, and it should return a dictionary containing these two pieces of information . Use the function to make three dictionaries representing different albums . Print each return value to show that the dictionaries are storing the album information correctly . Add an optional parameter to make_album() that allows you to store the number of tracks on an album . If the calling line includes a value for the number of tracks, add that value to the album’s dictionary . Make at least one new function call that includes the number of tracks on an album . "
   ]
  },
  {
   "cell_type": "code",
   "execution_count": 3,
   "metadata": {},
   "outputs": [],
   "source": [
    "def make_album(artist_name,album_title,tracks=\" \"):\n",
    "    razi={\"artist\":artist_name,\"album\":album_title}\n",
    "    kodak={\"artist\":artist_name,\"album\":album_title}\n",
    "    murawa={\"artist\":artist_name,\"album\":album_title}\n",
    "    if tracks:\n",
    "        razi[\"track\"]=tracks\n",
    "        kodak[\"track\"]=tracks\n",
    "        murawa[\"track\"]=tracks\n",
    "        return razi\n",
    "        return kodak\n",
    "        return murawa"
   ]
  },
  {
   "cell_type": "code",
   "execution_count": 6,
   "metadata": {},
   "outputs": [
    {
     "name": "stdout",
     "output_type": "stream",
     "text": [
      "{'artist': 'muneeb', 'album': 'barsaat', 'track': ' '}\n"
     ]
    }
   ],
   "source": [
    "a=make_album(\"muneeb\",\"barsaat\")\n",
    "print(a)"
   ]
  },
  {
   "cell_type": "code",
   "execution_count": 7,
   "metadata": {},
   "outputs": [
    {
     "name": "stdout",
     "output_type": "stream",
     "text": [
      "{'artist': 'muneeb', 'album': 'barsaat', 'track': 5}\n"
     ]
    }
   ],
   "source": [
    "b=make_album(\"muneeb\",\"barsaat\",5)\n",
    "print(b)"
   ]
  },
  {
   "cell_type": "code",
   "execution_count": null,
   "metadata": {},
   "outputs": [],
   "source": []
  },
  {
   "cell_type": "markdown",
   "metadata": {},
   "source": [
    "8-8. User Albums: Start with your program from Exercise 8-7 . Write a while loop that allows users to enter an album’s artist and title . Once you have that information, call make_album() with the user’s input and print the dictionary that’s created . Be sure to include a quit value in the while loop ."
   ]
  },
  {
   "cell_type": "code",
   "execution_count": 6,
   "metadata": {},
   "outputs": [
    {
     "name": "stdout",
     "output_type": "stream",
     "text": [
      "Enter artist name: muneeb\n",
      "Enter album name: barsaat\n",
      "{'artist': 'muneeb', 'album': 'barsaat'}\n",
      "Enter artist name: q\n"
     ]
    }
   ],
   "source": [
    "def make_album(artist_name,album_title):\n",
    "    razi={\"artist\":artist_name,\"album\":album_title}\n",
    "    kodak={\"artist\":artist_name,\"album\":album_title}\n",
    "    murawa={\"artist\":artist_name,\"album\":album_title}\n",
    "    return razi\n",
    "    return kodak\n",
    "    return murawa\n",
    "    \n",
    "while True:\n",
    "    artist_name=input(\"Enter artist name: \")\n",
    "    if artist_name==\"q\":\n",
    "        break\n",
    "    album_title=input(\"Enter album name: \")\n",
    "    if album_title=='q':\n",
    "        break\n",
    "    c=make_album(artist_name,album_title)\n",
    "    print(c)"
   ]
  },
  {
   "cell_type": "markdown",
   "metadata": {},
   "source": [
    "8-9. Magicians: Make a list of magician’s names . Pass the list to a function called show_magicians(), which prints the name of each magician in the list ."
   ]
  },
  {
   "cell_type": "code",
   "execution_count": 9,
   "metadata": {},
   "outputs": [],
   "source": [
    "def show_magicians(magicians):\n",
    "    for magician in magicians:\n",
    "        print(f\"{magician} \")\n",
    "magician=[\"muneeb\",\"sarkaar\",\"chariya\"]"
   ]
  },
  {
   "cell_type": "code",
   "execution_count": 10,
   "metadata": {},
   "outputs": [
    {
     "name": "stdout",
     "output_type": "stream",
     "text": [
      "muneeb \n",
      "sarkaar \n",
      "chariya \n"
     ]
    }
   ],
   "source": [
    "show_magicians(magician)"
   ]
  },
  {
   "cell_type": "code",
   "execution_count": null,
   "metadata": {},
   "outputs": [],
   "source": []
  },
  {
   "cell_type": "markdown",
   "metadata": {},
   "source": [
    "8-10. Great Magicians: Start with a copy of your program from Exercise 8-9 . Write a function called make_great() that modifies the list of magicians by adding the phrase the Great to each magician’s name . Call show_magicians() to see that the list has actually been modified ."
   ]
  },
  {
   "cell_type": "code",
   "execution_count": 14,
   "metadata": {},
   "outputs": [],
   "source": [
    "magicians=[\"muneeb\",\"sarkaar\",\"chariya\"]\n",
    "def show_magicians(magicians):\n",
    "    for magician in magicians:\n",
    "        print(f\"great {magician}\")"
   ]
  },
  {
   "cell_type": "code",
   "execution_count": 15,
   "metadata": {},
   "outputs": [
    {
     "name": "stdout",
     "output_type": "stream",
     "text": [
      "great muneeb\n",
      "great sarkaar\n",
      "great chariya\n"
     ]
    }
   ],
   "source": [
    "show_magicians(magicians)"
   ]
  },
  {
   "cell_type": "code",
   "execution_count": null,
   "metadata": {},
   "outputs": [],
   "source": []
  },
  {
   "cell_type": "markdown",
   "metadata": {},
   "source": [
    "8-11. Unchanged Magicians: Start with your work from Exercise 8-10 . Call the function make_great() with a copy of the list of magicians’ names . Because the original list will be unchanged, return the new list and store it in a separate list . Call show_magicians() with each list to show that you have one list of the original names and one list with the Great added to each magician’s name .\n"
   ]
  },
  {
   "cell_type": "code",
   "execution_count": 18,
   "metadata": {},
   "outputs": [
    {
     "ename": "SyntaxError",
     "evalue": "invalid syntax (<ipython-input-18-82e7e7eed08c>, line 4)",
     "output_type": "error",
     "traceback": [
      "\u001b[1;36m  File \u001b[1;32m\"<ipython-input-18-82e7e7eed08c>\"\u001b[1;36m, line \u001b[1;32m4\u001b[0m\n\u001b[1;33m    new_list.append(\"great\"magician[:])\u001b[0m\n\u001b[1;37m                                  ^\u001b[0m\n\u001b[1;31mSyntaxError\u001b[0m\u001b[1;31m:\u001b[0m invalid syntax\n"
     ]
    }
   ],
   "source": [
    "magicians=[\"muneeb\",\"sarkaar\",\"chariya\"]\n",
    "def make_great(magicians):\n",
    "    for magician in magicians:\n",
    "        new_list.append(\"great\"magician[:])"
   ]
  },
  {
   "cell_type": "code",
   "execution_count": null,
   "metadata": {},
   "outputs": [],
   "source": []
  }
 ],
 "metadata": {
  "kernelspec": {
   "display_name": "Python 3",
   "language": "python",
   "name": "python3"
  },
  "language_info": {
   "codemirror_mode": {
    "name": "ipython",
    "version": 3
   },
   "file_extension": ".py",
   "mimetype": "text/x-python",
   "name": "python",
   "nbconvert_exporter": "python",
   "pygments_lexer": "ipython3",
   "version": "3.7.3"
  }
 },
 "nbformat": 4,
 "nbformat_minor": 2
}
