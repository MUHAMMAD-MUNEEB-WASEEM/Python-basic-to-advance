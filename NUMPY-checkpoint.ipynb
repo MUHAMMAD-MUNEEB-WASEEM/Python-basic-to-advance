{
 "cells": [
  {
   "cell_type": "code",
   "execution_count": 1,
   "metadata": {},
   "outputs": [
    {
     "name": "stdout",
     "output_type": "stream",
     "text": [
      "[2 4 6 8]\n",
      "[3 4 5 6]\n",
      "\n",
      "normal list\n",
      "\n",
      "[1, 2, 3, 4, 1, 2, 3, 4]\n"
     ]
    }
   ],
   "source": [
    "#array size of numpy can not be increased but normal list size can be increased using append or insert etc\n",
    "#numpy functions\n",
    "#np.zeros() create list of elements of required numbers or size \"USED FOR ADDITION MOSTLY\"\n",
    "#np.ones() \"USED FOR MULTIPLICATION MOSTLY\"\n",
    "#np.empty() no values\n",
    "#np.arange() takes range and returns array\n",
    "\n",
    "import numpy as np\n",
    "\n",
    "nplst = np.array([1,2,3,4])\n",
    "print(nplst*2)#using numpy we can perform mathematical operations\n",
    "print(nplst+2)\n",
    "\n",
    "print(\"\\nnormal list\\n\")\n",
    "nor_lst = [1,2,3,4]\n",
    "print(nor_lst*2)#no mathematical operation performed\n",
    " "
   ]
  },
  {
   "cell_type": "code",
   "execution_count": 2,
   "metadata": {},
   "outputs": [
    {
     "name": "stdout",
     "output_type": "stream",
     "text": [
      "[[0. 0. 0.]\n",
      " [0. 0. 0.]\n",
      " [0. 0. 0.]\n",
      " [0. 0. 0.]]\n",
      "\n",
      " [0. 0. 0.]\n",
      "\n",
      " [[0. 0. 0.]\n",
      " [0. 0. 0.]\n",
      " [0. 0. 0.]\n",
      " [0. 0. 0.]]\n"
     ]
    },
    {
     "data": {
      "text/plain": [
       "1"
      ]
     },
     "execution_count": 2,
     "metadata": {},
     "output_type": "execute_result"
    }
   ],
   "source": [
    "zero_lst = np.zeros([4,3])#row --- columns\n",
    "zero_lst1 = np.zeros(3)\n",
    "print(zero_lst)\n",
    "print(\"\\n\", zero_lst1)\n",
    "\n",
    "print(\"\\n\", np.zeros((4,3)))# tupple can also be used\n",
    "zero_lst1.ndim#1 dimension"
   ]
  },
  {
   "cell_type": "code",
   "execution_count": 3,
   "metadata": {},
   "outputs": [
    {
     "name": "stdout",
     "output_type": "stream",
     "text": [
      "[[1. 1.]\n",
      " [1. 1.]\n",
      " [1. 1.]]\n"
     ]
    }
   ],
   "source": [
    "ones_lst = np.ones([3,2])\n",
    "print(ones_lst)"
   ]
  },
  {
   "cell_type": "code",
   "execution_count": 4,
   "metadata": {},
   "outputs": [
    {
     "name": "stdout",
     "output_type": "stream",
     "text": [
      "int32\n",
      "\n",
      " [0 1 2 3 4 5 6]\n",
      "[[0 1 2]\n",
      " [3 4 5]\n",
      " [6 7 8]]\n"
     ]
    }
   ],
   "source": [
    "arrange = np.arange(9).reshape(3,3).dtype\n",
    "arrange1 = np.arange(7)                              \n",
    "print(arrange)\n",
    "print(\"\\n\", arrange1)\n",
    "arrange2 = np.arange(9).reshape(3,3)\n",
    "print(arrange2)"
   ]
  },
  {
   "cell_type": "code",
   "execution_count": 5,
   "metadata": {},
   "outputs": [],
   "source": [
    "#.dtype gives type of array\n",
    "#ndim gives no of dimension"
   ]
  },
  {
   "cell_type": "code",
   "execution_count": 6,
   "metadata": {},
   "outputs": [
    {
     "name": "stdout",
     "output_type": "stream",
     "text": [
      "[[0. 0. 0. 0.]\n",
      " [0. 0. 0. 0.]\n",
      " [0. 0. 0. 0.]]\n",
      "\n",
      "NUMPY ATTRIBUTES\n",
      "float64\n",
      "(3, 4)\n",
      "2\n"
     ]
    }
   ],
   "source": [
    "np2 = np.zeros((3,4))#input parameters or dimensions\n",
    "print(np2)\n",
    "\n",
    "print(\"\\nNUMPY ATTRIBUTES\")\n",
    "print(np2.dtype)#gives type of data type\n",
    "print(np2.shape)#gives input dimension\n",
    "print(np2.ndim)#gives no of dimension"
   ]
  },
  {
   "cell_type": "code",
   "execution_count": 7,
   "metadata": {},
   "outputs": [
    {
     "data": {
      "text/plain": [
       "array([0., 0., 0., 0., 0., 0., 0., 0., 0., 0., 0., 0.])"
      ]
     },
     "execution_count": 7,
     "metadata": {},
     "output_type": "execute_result"
    }
   ],
   "source": [
    "np2.reshape(12)#changing dimension"
   ]
  },
  {
   "cell_type": "markdown",
   "metadata": {},
   "source": []
  },
  {
   "cell_type": "code",
   "execution_count": 8,
   "metadata": {},
   "outputs": [
    {
     "name": "stdout",
     "output_type": "stream",
     "text": [
      "['Tools', 'for', 'reading/writing', 'array', 'data', 'to', 'disk', 'and', 'working', 'with', 'memory-mapped', 'files.']\n"
     ]
    }
   ],
   "source": [
    "#converting string text into numpy array\n",
    "s = \"Tools for reading/writing array data to disk and working with memory-mapped files.\"\n",
    "s = s.strip().split()\n",
    "print(s)"
   ]
  },
  {
   "cell_type": "code",
   "execution_count": 9,
   "metadata": {},
   "outputs": [
    {
     "name": "stdout",
     "output_type": "stream",
     "text": [
      "['Tools' 'for' 'reading/writing' 'array' 'data' 'to' 'disk' 'and'\n",
      " 'working' 'with' 'memory-mapped' 'files.']\n",
      "<class 'numpy.ndarray'>\n"
     ]
    }
   ],
   "source": [
    "import numpy as np\n",
    "s = np.array(s)\n",
    "print(s)\n",
    "print(type(s))"
   ]
  },
  {
   "cell_type": "code",
   "execution_count": 10,
   "metadata": {},
   "outputs": [
    {
     "name": "stdout",
     "output_type": "stream",
     "text": [
      "['Here' 'are' 'some' 'of' 'the' 'things' 'you’ll' 'find' 'in' 'NumPy:' '•'\n",
      " 'ndarray,' 'an' 'efficient' 'multidimensional' 'array' 'providing' 'fast'\n",
      " 'array-oriented' 'arithmetic' 'operations' 'and' 'flexible'\n",
      " 'broadcasting' 'capabilities.' '•' 'Mathematical' 'functions' 'for'\n",
      " 'fast' 'operations' 'on' 'entire' 'arrays' 'of' 'data' 'without' 'having'\n",
      " 'to' 'write' 'loops.' '•' 'Tools' 'for' 'reading/writing' 'array' 'data'\n",
      " 'to' 'disk' 'and' 'working' 'with' 'memory-mapped' 'files.' '•' 'Linear'\n",
      " 'algebra,' 'random' 'number' 'generation,' 'and' 'Fourier' 'transform'\n",
      " 'capabilities.' '•' 'A' 'C' 'API' 'for' 'connecting' 'NumPy' 'with'\n",
      " 'libraries' 'written' 'in' 'C,' 'C++,' 'or' 'FORTRAN.']\n",
      "<class 'numpy.ndarray'>\n"
     ]
    }
   ],
   "source": [
    "st = \"\"\"Here are some of the things you’ll find in NumPy: • ndarray, an efficient multidimensional array providing fast array-oriented arithmetic operations and flexible broadcasting capabilities. • Mathematical functions for fast operations on entire arrays of data without having to write loops. • Tools for reading/writing array data to disk and working with memory-mapped files. • Linear algebra, random number generation, and Fourier transform capabilities. • A C API for connecting NumPy with libraries written in C, C++, or FORTRAN. \"\"\"\n",
    "st = st.strip().split()\n",
    "st = np.array(st)\n",
    "print(st)\n",
    "print(type(st))"
   ]
  },
  {
   "cell_type": "code",
   "execution_count": 11,
   "metadata": {},
   "outputs": [
    {
     "name": "stdout",
     "output_type": "stream",
     "text": [
      "[[1 2 3]\n",
      " [4 5 6]]\n",
      "[[ 1  4  9]\n",
      " [ 4 10 18]]\n"
     ]
    }
   ],
   "source": [
    "arr = np.array([[1,2,3],[4,5,6]])\n",
    "print(arr)\n",
    "arr2 = np.array([1,2,3])#dimensions should be same\n",
    "arr_mul = arr*arr2\n",
    "print(arr_mul)"
   ]
  },
  {
   "cell_type": "code",
   "execution_count": 12,
   "metadata": {},
   "outputs": [
    {
     "name": "stdout",
     "output_type": "stream",
     "text": [
      "[[ 2  4  6]\n",
      " [ 8 10 12]]\n"
     ]
    }
   ],
   "source": [
    "arr = np.array([[1,2,3],[4,5,6]])\n",
    "arr2 = np.array([2])#single dimension\n",
    "arr_mul = arr*arr2\n",
    "print(arr_mul)"
   ]
  },
  {
   "cell_type": "code",
   "execution_count": 13,
   "metadata": {},
   "outputs": [
    {
     "ename": "ValueError",
     "evalue": "operands could not be broadcast together with shapes (2,3) (2,) ",
     "output_type": "error",
     "traceback": [
      "\u001b[1;31m---------------------------------------------------------------------------\u001b[0m",
      "\u001b[1;31mValueError\u001b[0m                                Traceback (most recent call last)",
      "\u001b[1;32m<ipython-input-13-f622115277a6>\u001b[0m in \u001b[0;36m<module>\u001b[1;34m\u001b[0m\n\u001b[0;32m      1\u001b[0m \u001b[0marr\u001b[0m \u001b[1;33m=\u001b[0m \u001b[0mnp\u001b[0m\u001b[1;33m.\u001b[0m\u001b[0marray\u001b[0m\u001b[1;33m(\u001b[0m\u001b[1;33m[\u001b[0m\u001b[1;33m[\u001b[0m\u001b[1;36m1\u001b[0m\u001b[1;33m,\u001b[0m\u001b[1;36m2\u001b[0m\u001b[1;33m,\u001b[0m\u001b[1;36m3\u001b[0m\u001b[1;33m]\u001b[0m\u001b[1;33m,\u001b[0m\u001b[1;33m[\u001b[0m\u001b[1;36m4\u001b[0m\u001b[1;33m,\u001b[0m\u001b[1;36m5\u001b[0m\u001b[1;33m,\u001b[0m\u001b[1;36m6\u001b[0m\u001b[1;33m]\u001b[0m\u001b[1;33m]\u001b[0m\u001b[1;33m)\u001b[0m\u001b[1;33m\u001b[0m\u001b[1;33m\u001b[0m\u001b[0m\n\u001b[0;32m      2\u001b[0m \u001b[0marr2\u001b[0m \u001b[1;33m=\u001b[0m \u001b[0mnp\u001b[0m\u001b[1;33m.\u001b[0m\u001b[0marray\u001b[0m\u001b[1;33m(\u001b[0m\u001b[1;33m[\u001b[0m\u001b[1;36m1\u001b[0m\u001b[1;33m,\u001b[0m\u001b[1;36m2\u001b[0m\u001b[1;33m]\u001b[0m\u001b[1;33m)\u001b[0m\u001b[1;31m#dimensions not same this will gave an error\u001b[0m\u001b[1;33m\u001b[0m\u001b[1;33m\u001b[0m\u001b[0m\n\u001b[1;32m----> 3\u001b[1;33m \u001b[0marr_mul\u001b[0m \u001b[1;33m=\u001b[0m \u001b[0marr\u001b[0m\u001b[1;33m*\u001b[0m\u001b[0marr2\u001b[0m\u001b[1;33m\u001b[0m\u001b[1;33m\u001b[0m\u001b[0m\n\u001b[0m\u001b[0;32m      4\u001b[0m \u001b[0mprint\u001b[0m\u001b[1;33m(\u001b[0m\u001b[0marr_mul\u001b[0m\u001b[1;33m)\u001b[0m\u001b[1;33m\u001b[0m\u001b[1;33m\u001b[0m\u001b[0m\n\u001b[0;32m      5\u001b[0m \u001b[1;33m\u001b[0m\u001b[0m\n",
      "\u001b[1;31mValueError\u001b[0m: operands could not be broadcast together with shapes (2,3) (2,) "
     ]
    }
   ],
   "source": [
    "arr = np.array([[1,2,3],[4,5,6]])\n",
    "arr2 = np.array([1,2])#dimensions not same this will gave an error\n",
    "arr_mul = arr*arr2\n",
    "print(arr_mul)\n",
    "\n",
    "\n",
    "#dimensions should be same or only single dimension"
   ]
  },
  {
   "cell_type": "code",
   "execution_count": null,
   "metadata": {},
   "outputs": [],
   "source": [
    "st = \"\"\"Here are some of the things you’ll find in NumPy: • ndarray, an efficient multidimensional array providing fast array-oriented arithmetic operations and flexible broadcasting capabilities. • Mathematical functions for fast operations on entire arrays of data without having to write loops. • Tools for reading/writing array data to disk and working with memory-mapped files. • Linear algebra, random number generation, and Fourier transform capabilities. • A C API for connecting NumPy with libraries written in C, C++, or FORTRAN. \"\"\"\n",
    "st = st.strip().split()\n",
    "st = np.array(st)\n",
    "\n",
    "for ele in st:\n",
    "    print(ele)\n",
    "    print(len(ele)<5)\n",
    "#print(type(st))\n"
   ]
  },
  {
   "cell_type": "code",
   "execution_count": null,
   "metadata": {},
   "outputs": [],
   "source": [
    "print(len(st)>5)# this len function apply on whole numpy array and our numpy array contains more than 5 elements so it give True\n",
    "lnth = np.vectorize(len)#work as element wise so input function will apply on indiviual element\n",
    "print(lnth(st)<5)#This gives answer in boolean\n",
    "print(st[lnth(st)<5])#this gives answer in element type"
   ]
  },
  {
   "cell_type": "code",
   "execution_count": null,
   "metadata": {},
   "outputs": [],
   "source": [
    "lst = [1,2,-1,-4]\n",
    "arr = np.array(lst)\n",
    "print(type(arr))\n",
    "print(arr>0)\n",
    "print(arr[arr>0])"
   ]
  },
  {
   "cell_type": "code",
   "execution_count": null,
   "metadata": {},
   "outputs": [],
   "source": [
    "lst = [1,2,-1,-4]\n",
    "arr = np.array(lst)\n",
    "print(arr[2])#indexing"
   ]
  },
  {
   "cell_type": "code",
   "execution_count": null,
   "metadata": {},
   "outputs": [],
   "source": [
    "lst = [1,2,-1,-4,10,20,30]\n",
    "arr = np.array(lst)\n",
    "print(arr[[4,3,0,6]])#fancy indexing gives output on these indexes\n",
    "s = [2,6,]\n",
    "print(arr[s])#fancy indexing"
   ]
  },
  {
   "cell_type": "code",
   "execution_count": null,
   "metadata": {},
   "outputs": [],
   "source": [
    "salary = np.array([0,-1,20000,2000000])\n",
    "print(salary[salary<20000])\n",
    "np.where(salary<20000,1000,salary)#1000area-True, salaryarea-Falseit works as if salary <20000 then it returns 1000 on those\n",
    "#indexes whose value is less than 20000 or otherwise it will return salary on remaining indexes\n",
    "\n"
   ]
  },
  {
   "cell_type": "code",
   "execution_count": null,
   "metadata": {},
   "outputs": [],
   "source": [
    "salary = np.array([0,-1,20000,2000000])\n",
    "print(salary[salary<20000])\n",
    "np.where(salary<20000,\"a\",salary)"
   ]
  },
  {
   "cell_type": "code",
   "execution_count": null,
   "metadata": {},
   "outputs": [],
   "source": [
    "arr = [10,20,30,40,50,60]\n",
    "arr = np.array(arr)\n",
    "print(np.cumsum(arr))#sum previous values"
   ]
  },
  {
   "cell_type": "code",
   "execution_count": null,
   "metadata": {},
   "outputs": [],
   "source": [
    "barr = arr>30\n",
    "print(barr)\n",
    "print(np.sum(barr))#returns sum of boolean true = 1 and false = 0\n",
    "print(arr.sum())#returns total sum of arr\n",
    "print(barr.any(), arr.any())#if one true returns true\n",
    "print(barr.all(),arr.all())#if one false all false if all true returns true\n",
    "arr1 = [1,2,3,0,0]\n",
    "arr1 = np.array(arr1)\n",
    "barr1 = arr1>2\n",
    "print(\"\\n\",barr1.all(),arr1.all())#as 0 false so it gives false"
   ]
  },
  {
   "cell_type": "code",
   "execution_count": null,
   "metadata": {},
   "outputs": [],
   "source": [
    "np.savez(\"arays.npz\",a = arr,b=barr)#a--->dictionary key , arr--->value and save value as dictionary"
   ]
  },
  {
   "cell_type": "code",
   "execution_count": null,
   "metadata": {},
   "outputs": [],
   "source": [
    "arr2 = np.load(\"arays.npz\")#dictinary\n",
    "print(arr2['a'])#dictinary[key]\n",
    "print(arr2['b'])"
   ]
  },
  {
   "cell_type": "code",
   "execution_count": null,
   "metadata": {},
   "outputs": [],
   "source": []
  },
  {
   "cell_type": "code",
   "execution_count": null,
   "metadata": {},
   "outputs": [],
   "source": [
    "arr2 = np.load(\"C:\\\\Users\\\\abc\\\\Desktop\\\\arays.npz\")#dictinary\n",
    "print(arr2['a'])#dictinary[key]\n",
    "print(arr2['b'])"
   ]
  },
  {
   "cell_type": "code",
   "execution_count": null,
   "metadata": {},
   "outputs": [],
   "source": [
    "a = np.array([[1,2,3],[4,5,6]])\n",
    "b = np.array([[7,8,9],[10,11,12]])\n",
    "c = np.concatenate([a,b], axis= 1)\n",
    "print(\"c\", c)"
   ]
  },
  {
   "cell_type": "code",
   "execution_count": null,
   "metadata": {},
   "outputs": [],
   "source": [
    "a = np.array([[1,2,3],[4,5,6]])\n",
    "b = np.array([[7,8,9],[10,11,12]])\n",
    "c = np.concatenate([a,b], axis= 0)\n",
    "print(c)"
   ]
  },
  {
   "cell_type": "code",
   "execution_count": null,
   "metadata": {},
   "outputs": [],
   "source": [
    "print(np.vstack([a,b]))"
   ]
  },
  {
   "cell_type": "code",
   "execution_count": null,
   "metadata": {},
   "outputs": [],
   "source": [
    "print(np.hstack([a,b]))"
   ]
  },
  {
   "cell_type": "code",
   "execution_count": null,
   "metadata": {},
   "outputs": [],
   "source": [
    "a = np.array([0,41,42,300,400,500,43,40,800,900])\n",
    "print(\"split: \", np.split(a,[0,5]))#0 then on 5index in first array"
   ]
  },
  {
   "cell_type": "code",
   "execution_count": null,
   "metadata": {},
   "outputs": [],
   "source": [
    "a = np.array([0,41,42,300,400,500,43,40,800,900])\n",
    "print(\"split: \", np.split(a,[2,7]))#split on 2 and 5"
   ]
  },
  {
   "cell_type": "code",
   "execution_count": null,
   "metadata": {},
   "outputs": [],
   "source": [
    "a = np.array([0,41,42,300,400,500,43,40,800,900])\n",
    "print(\"split: \", np.split(a,[0,1]))#0 till 1 in first array"
   ]
  },
  {
   "cell_type": "code",
   "execution_count": null,
   "metadata": {},
   "outputs": [],
   "source": [
    "a = np.array([0,41,42,300,400,500,43,40,800,900])\n",
    "print(\"split: \", np.split(a,[2,5,7]))#first split on 2 then on 5 then on 7"
   ]
  },
  {
   "cell_type": "markdown",
   "metadata": {},
   "source": [
    "# Numoy Slicing"
   ]
  },
  {
   "cell_type": "code",
   "execution_count": null,
   "metadata": {},
   "outputs": [],
   "source": [
    "import numpy as np\n",
    "\n",
    "ndarray = np.array([1, 2, 3,  4])\n",
    "print(ndarray)\n",
    "print(\"ndim\", ndarray.ndim, \"shape\", ndarray.shape)"
   ]
  },
  {
   "cell_type": "code",
   "execution_count": null,
   "metadata": {},
   "outputs": [],
   "source": [
    "ndarray = np.array(\n",
    "                   [\n",
    "                    [11, 12, 13],#4 elements(arrays) consist of 3 elements each\n",
    "                    [21, 22, 23],\n",
    "                    [31, 32, 33],\n",
    "                    [41, 42, 43]\n",
    "                   ]\n",
    "                )\n",
    "print(ndarray)\n",
    "print(\"ndim\", ndarray.ndim, \"shape\", ndarray.shape)\n",
    "\n",
    "#use of colon is optional means select all\n",
    "\n",
    "print(ndarray[2,])#1 dim give no of arrays which is max 4 in this case and 2 dim give elements inside each array which is 3\n",
    "print(ndarray[:2,])\n",
    "print(ndarray[3, 2])#gives elements of second index of 3 array\n",
    "print(ndarray[3, 0:2])"
   ]
  },
  {
   "cell_type": "code",
   "execution_count": null,
   "metadata": {},
   "outputs": [],
   "source": [
    "ndarray = np.array(\n",
    "                   [\n",
    "                    [[111, 112, 113, 114], [121, 122, 123, 124], [131, 132, 133, 134]],#4 elements(arrays) consist of 3 elements each\n",
    "                    [[211, 212, 213, 214], [221, 222, 223, 224], [231, 232, 233, 234]],\n",
    "                    [[311, 312, 313, 314], [321, 322, 323, 324], [331, 332, 333, 334]],\n",
    "                    [[411, 412, 413, 414], [421, 422, 423, 424], [431, 432, 433, 434]]\n",
    "                   ]\n",
    "                )\n",
    "print(ndarray)\n",
    "print(\"ndim\", ndarray.ndim, \"shape\", ndarray.shape)\n",
    "print(\"*****\")\n",
    "print(ndarray[3, 2, 3])\n",
    "print(\"*****\")\n",
    "print(\"\\n\", ndarray[0:4, 0:3, 0:4])"
   ]
  },
  {
   "cell_type": "code",
   "execution_count": null,
   "metadata": {},
   "outputs": [],
   "source": [
    "sub_array = ndarray[2]\n",
    "print(sub_array)\n",
    "print(\"dim\", sub_array.ndim, \"shape\",sub_array.shape)"
   ]
  },
  {
   "cell_type": "code",
   "execution_count": 14,
   "metadata": {},
   "outputs": [
    {
     "data": {
      "text/plain": [
       "array([[0, 0],\n",
       "       [0, 0]])"
      ]
     },
     "execution_count": 14,
     "metadata": {},
     "output_type": "execute_result"
    }
   ],
   "source": [
    "X=np.array([[1,0],[0,1]])\n",
    "Y=np.array([[0,1],[1,0]])\n",
    "Z=X*Y\n",
    "Z"
   ]
  },
  {
   "cell_type": "code",
   "execution_count": null,
   "metadata": {},
   "outputs": [],
   "source": [
    "X=np.array([[1,0,1],[2,2,2]]) \n",
    "out=X[0:2,2]\n",
    "out"
   ]
  },
  {
   "cell_type": "markdown",
   "metadata": {},
   "source": [
    "# MATRIX MULTIPLICATION\n"
   ]
  },
  {
   "cell_type": "code",
   "execution_count": null,
   "metadata": {},
   "outputs": [],
   "source": [
    "X=np.array([[1,0],[0,1]])\n",
    "X"
   ]
  },
  {
   "cell_type": "code",
   "execution_count": null,
   "metadata": {},
   "outputs": [],
   "source": [
    "Y=np.array([[2,1],[1,2]]) \n",
    "Y"
   ]
  },
  {
   "cell_type": "code",
   "execution_count": null,
   "metadata": {},
   "outputs": [],
   "source": [
    "Z=np.dot(X,Y)\n",
    "Z"
   ]
  },
  {
   "cell_type": "code",
   "execution_count": null,
   "metadata": {},
   "outputs": [],
   "source": []
  }
 ],
 "metadata": {
  "kernelspec": {
   "display_name": "Python 3",
   "language": "python",
   "name": "python3"
  },
  "language_info": {
   "codemirror_mode": {
    "name": "ipython",
    "version": 3
   },
   "file_extension": ".py",
   "mimetype": "text/x-python",
   "name": "python",
   "nbconvert_exporter": "python",
   "pygments_lexer": "ipython3",
   "version": "3.7.3"
  }
 },
 "nbformat": 4,
 "nbformat_minor": 2
}
