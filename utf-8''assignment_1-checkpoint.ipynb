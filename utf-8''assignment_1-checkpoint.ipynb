{
 "cells": [
  {
   "cell_type": "markdown",
   "metadata": {},
   "source": [
    "# Assignment 1: Building a Better Contact Sheet\n",
    "In the lectures for this week you were shown how to make a contact sheet for digital photographers, and how you can take one image and create nine different variants based on the brightness of that image. In this assignment you are going to change the colors of the image, creating variations based on a single photo. There are many complex ways to change a photograph using variations, such as changing a black and white image to either \"cool\" variants, which have light purple and blues in them, or \"warm\" variants, which have touches of yellow and may look sepia toned. In this assignment, you'll be just changing the image one color channel at a time\n",
    "\n",
    "Your assignment is to learn how to take the stub code provided in the lecture (cleaned up below), and generate the following output image:\n",
    "\n",
    "![](./readonly/assignment1.png \"\")\n",
    "\n",
    "From the image you can see there are two parameters which are being varied for each sub-image. First, the rows are changed by color channel, where the top is the red channel, the middle is the green channel, and the bottom is the blue channel. Wait, why don't the colors look more red, green, and blue, in that order? Because the change you to be making is the ratio, or intensity, or that channel, in relationship to the other channels. We're going to use three different intensities, 0.1 (reduce the channel a lot), 0.5 (reduce the channel in half), and 0.9 (reduce the channel only a little bit).\n",
    "\n",
    "For instance, a pixel represented as (200, 100, 50) is a sort of burnt orange color. So the top row of changes would create three alternative pixels, varying the first channel (red). one at (20, 100, 50), one at (100, 100, 50), and one at (180, 100, 50). The next row would vary the second channel (blue), and would create pixels of color values (200, 10, 50), (200, 50, 50) and (200, 90, 50).\n",
    "\n",
    "Note: A font is included for your usage if you would like! It's located in the file `readonly/fanwood-webfont.ttf`\n",
    "\n",
    "Need some hints? Use them sparingly, see how much you can get done on your own first! The sample code given in the class has been cleaned up below, you might want to start from that."
   ]
  },
  {
   "cell_type": "code",
   "execution_count": 1,
   "metadata": {},
   "outputs": [
    {
     "ename": "FileNotFoundError",
     "evalue": "[Errno 2] No such file or directory: 'readonly/msi_recruitment.gif'",
     "output_type": "error",
     "traceback": [
      "\u001b[1;31m---------------------------------------------------------------------------\u001b[0m",
      "\u001b[1;31mFileNotFoundError\u001b[0m                         Traceback (most recent call last)",
      "\u001b[1;32m<ipython-input-1-53eedc214c48>\u001b[0m in \u001b[0;36m<module>\u001b[1;34m\u001b[0m\n\u001b[0;32m      4\u001b[0m \u001b[1;33m\u001b[0m\u001b[0m\n\u001b[0;32m      5\u001b[0m \u001b[1;33m\u001b[0m\u001b[0m\n\u001b[1;32m----> 6\u001b[1;33m \u001b[0mimage\u001b[0m\u001b[1;33m=\u001b[0m\u001b[0mImage\u001b[0m\u001b[1;33m.\u001b[0m\u001b[0mopen\u001b[0m\u001b[1;33m(\u001b[0m\u001b[1;34m\"readonly/msi_recruitment.gif\"\u001b[0m\u001b[1;33m)\u001b[0m\u001b[1;33m\u001b[0m\u001b[1;33m\u001b[0m\u001b[0m\n\u001b[0m\u001b[0;32m      7\u001b[0m \u001b[1;33m\u001b[0m\u001b[0m\n\u001b[0;32m      8\u001b[0m \u001b[0mimages\u001b[0m \u001b[1;33m=\u001b[0m \u001b[1;33m[\u001b[0m\u001b[1;33m]\u001b[0m\u001b[1;33m\u001b[0m\u001b[1;33m\u001b[0m\u001b[0m\n",
      "\u001b[1;32m~\\Anaconda3\\lib\\site-packages\\PIL\\Image.py\u001b[0m in \u001b[0;36mopen\u001b[1;34m(fp, mode)\u001b[0m\n\u001b[0;32m   2807\u001b[0m \u001b[1;33m\u001b[0m\u001b[0m\n\u001b[0;32m   2808\u001b[0m     \u001b[1;32mif\u001b[0m \u001b[0mfilename\u001b[0m\u001b[1;33m:\u001b[0m\u001b[1;33m\u001b[0m\u001b[1;33m\u001b[0m\u001b[0m\n\u001b[1;32m-> 2809\u001b[1;33m         \u001b[0mfp\u001b[0m \u001b[1;33m=\u001b[0m \u001b[0mbuiltins\u001b[0m\u001b[1;33m.\u001b[0m\u001b[0mopen\u001b[0m\u001b[1;33m(\u001b[0m\u001b[0mfilename\u001b[0m\u001b[1;33m,\u001b[0m \u001b[1;34m\"rb\"\u001b[0m\u001b[1;33m)\u001b[0m\u001b[1;33m\u001b[0m\u001b[1;33m\u001b[0m\u001b[0m\n\u001b[0m\u001b[0;32m   2810\u001b[0m         \u001b[0mexclusive_fp\u001b[0m \u001b[1;33m=\u001b[0m \u001b[1;32mTrue\u001b[0m\u001b[1;33m\u001b[0m\u001b[1;33m\u001b[0m\u001b[0m\n\u001b[0;32m   2811\u001b[0m \u001b[1;33m\u001b[0m\u001b[0m\n",
      "\u001b[1;31mFileNotFoundError\u001b[0m: [Errno 2] No such file or directory: 'readonly/msi_recruitment.gif'"
     ]
    }
   ],
   "source": [
    "import PIL\n",
    "from PIL import Image, ImageEnhance, ImageColor, ImageDraw, ImageFont\n",
    "\n",
    "\n",
    "\n",
    "image=Image.open(\"readonly/msi_recruitment.gif\")\n",
    "\n",
    "images = []\n",
    "intensity = [0.1,0.5,0.9]\n",
    "image=image.convert('RGB')\n",
    "\n",
    "    \n",
    "for c in range(3):    \n",
    "    for i in intensity:  \n",
    "        img = Image.new(\"RGB\",(800,500),(0,0,0))\n",
    "        for x in range(800):\n",
    "            for y in range(450):\n",
    "                r,g,b = image.getpixel((x,y))\n",
    "                img.putpixel((x,y),(r,g,b))\n",
    "        draw = ImageDraw.Draw(img)\n",
    "        font = ImageFont.truetype(\"readonly/fanwood-webfont.ttf\", 65)\n",
    "        text = \"channel 1 intensity {}\".format(i)\n",
    "        draw.text((2, 450), text, font=font)\n",
    "        for x in range(800):\n",
    "            for y in range(500):\n",
    "                r,g,b = img.getpixel((x,y))\n",
    "                if c == 0:\n",
    "                    r = int(r*i)\n",
    "                elif c == 1:\n",
    "                    g = int(g*i)\n",
    "                elif c == 2:\n",
    "                    b = int(b*i)\n",
    "                img.putpixel((x,y),(r,g,b))\n",
    "        images.append(img)\n",
    "    \n",
    "\n",
    "    \n",
    "\n",
    "first_image=images[0]\n",
    "contact_sheet=PIL.Image.new(first_image.mode, (first_image.width*3,first_image.height*3))\n",
    "x=0\n",
    "y=0\n",
    "\n",
    "for img in images:\n",
    "    # Lets paste the current image into the contact sheet\n",
    "    contact_sheet.paste(img, (x, y) )\n",
    "    # Now we update our X position. If it is going to be the width of the image, then we set it to 0\n",
    "    # and update Y as well to point to the next \"line\" of the contact sheet.\n",
    "    if x+first_image.width == contact_sheet.width:\n",
    "        x=0\n",
    "        y=y+first_image.height\n",
    "    else:\n",
    "        x=x+first_image.width\n",
    "\n",
    "# resize and display the contact sheet\n",
    "contact_sheet = contact_sheet.resize((int(contact_sheet.width/2),int(contact_sheet.height/2) ))\n",
    "display(contact_sheet)"
   ]
  },
  {
   "cell_type": "markdown",
   "metadata": {},
   "source": [
    "## HINT 1\n",
    "\n",
    "Check out the `PIL.ImageDraw module` for helpful functions"
   ]
  },
  {
   "cell_type": "markdown",
   "metadata": {},
   "source": [
    "## HINT 2\n",
    "\n",
    "Did you find the `text()` function of `PIL.ImageDraw`?"
   ]
  },
  {
   "cell_type": "markdown",
   "metadata": {},
   "source": [
    "## HINT 3\n",
    "\n",
    "Have you seen the `PIL.ImageFont` module? Try loading the font with a size of 75 or so."
   ]
  },
  {
   "cell_type": "markdown",
   "metadata": {},
   "source": [
    "## HINT 4\n",
    "These hints aren't really enough, we should probably generate some more."
   ]
  }
 ],
 "metadata": {
  "kernelspec": {
   "display_name": "Python 3",
   "language": "python",
   "name": "python3"
  },
  "language_info": {
   "codemirror_mode": {
    "name": "ipython",
    "version": 3
   },
   "file_extension": ".py",
   "mimetype": "text/x-python",
   "name": "python",
   "nbconvert_exporter": "python",
   "pygments_lexer": "ipython3",
   "version": "3.7.4"
  }
 },
 "nbformat": 4,
 "nbformat_minor": 2
}
