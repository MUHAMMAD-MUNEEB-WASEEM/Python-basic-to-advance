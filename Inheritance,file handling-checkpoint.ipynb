{
 "cells": [
  {
   "cell_type": "markdown",
   "metadata": {},
   "source": [
    "# Inheritance\n"
   ]
  },
  {
   "cell_type": "code",
   "execution_count": 15,
   "metadata": {},
   "outputs": [],
   "source": [
    "#inheritance give us facility of code reuseability\n",
    "#\"is a \" relation is used to check inheritance\n",
    "#1. home \"is a\" building(true)\n",
    "#2.man \"is a\" human(true)\n",
    "#3.tree \"is a\" building(false)\n",
    "#the class to be inherit(parent class)\n",
    "#the class that inherit(child class)\n",
    "#child class does have parent class attributes but also have his own attributes and property\n"
   ]
  },
  {
   "cell_type": "code",
   "execution_count": 42,
   "metadata": {},
   "outputs": [],
   "source": [
    "class car():\n",
    "    def __init__(self,make,model,year):\n",
    "        self.make = make\n",
    "        self.model = model\n",
    "        self.year = year\n",
    "        self.odometer_reading = 0#this is not mandatory\n",
    "        \n",
    "    def setodometerreading(self,newreading):\n",
    "        self.odometer_reading = newreading\n",
    "    def get_descriptive_name(self):\n",
    "        \n",
    "        long_name = str(self.year) + \" \" + self.make + \" \" + self.model\n",
    "        return long_name.title()\n",
    "    def read_odometer(self):\n",
    "        print(\"this car has \" + str(self.odometer_reading) + \" mile on it\")\n",
    "    def getodometerreading(self):#value updated through function\n",
    "        print(f\"current odometer reading is {self.odometer_reading}\")\n",
    "    def getfueltankcapacity(self):\n",
    "        print(\"Car has 100 litre tank\")"
   ]
  },
  {
   "cell_type": "code",
   "execution_count": 32,
   "metadata": {},
   "outputs": [],
   "source": [
    "class ElectricCar(car):#child class\n",
    "    pass#all attributes of car inherited\n",
    "#car is parent class\n"
   ]
  },
  {
   "cell_type": "code",
   "execution_count": 33,
   "metadata": {},
   "outputs": [],
   "source": [
    "ecar = ElectricCar(\"hondai\",\"rebond\",2018)"
   ]
  },
  {
   "cell_type": "code",
   "execution_count": 34,
   "metadata": {},
   "outputs": [
    {
     "data": {
      "text/plain": [
       "'2018 Hondai Rebond'"
      ]
     },
     "execution_count": 34,
     "metadata": {},
     "output_type": "execute_result"
    }
   ],
   "source": [
    "ecar.get_descriptive_name()"
   ]
  },
  {
   "cell_type": "code",
   "execution_count": 35,
   "metadata": {},
   "outputs": [
    {
     "name": "stdout",
     "output_type": "stream",
     "text": [
      "this car has 0 mile on it\n"
     ]
    }
   ],
   "source": [
    "ecar.read_odometer()"
   ]
  },
  {
   "cell_type": "code",
   "execution_count": 36,
   "metadata": {},
   "outputs": [
    {
     "name": "stdout",
     "output_type": "stream",
     "text": [
      "current odometer reading is 0\n"
     ]
    }
   ],
   "source": [
    "ecar.getodometerreading()"
   ]
  },
  {
   "cell_type": "code",
   "execution_count": 47,
   "metadata": {},
   "outputs": [],
   "source": [
    "class Electriccar(car):\n",
    "    def __init__(self,make,model,year):\n",
    "        super(). __init__(make,model,year)#used to initialize and directly availaible in electriccar class not to again assign\n",
    "        #means self.make\n",
    "        #self.model......\n",
    "        #the above attributes are inherited from parent class\n",
    "        self.battery = 100\n",
    "        self.engine = \"2000cc\"\n",
    "        self.software = \"Android\"\n",
    "        #these are the attributes of child class\n",
    "    \n",
    "    def getbattery_size(self):\n",
    "        print(f\"the electric car battery size is {self.battery}\")\n",
    "        \n",
    "    def setbattery_size(self,newbattery_size):\n",
    "        self.battery = newbattery_size\n",
    "    \n",
    "    def getfueltankcapacity(self):\n",
    "        print(\"Electric car has no fuel tank\")\n",
    "        "
   ]
  },
  {
   "cell_type": "code",
   "execution_count": 48,
   "metadata": {},
   "outputs": [],
   "source": [
    "ecar1 = Electriccar(\"hondai\",\"rebond\",2018)"
   ]
  },
  {
   "cell_type": "code",
   "execution_count": 49,
   "metadata": {},
   "outputs": [
    {
     "name": "stdout",
     "output_type": "stream",
     "text": [
      "the electric car battery size is 100\n"
     ]
    }
   ],
   "source": [
    "ecar1.getbattery_size()"
   ]
  },
  {
   "cell_type": "code",
   "execution_count": 50,
   "metadata": {},
   "outputs": [
    {
     "name": "stdout",
     "output_type": "stream",
     "text": [
      "Electric car has no fuel tank\n"
     ]
    }
   ],
   "source": [
    "ecar1.getfueltankcapacity()"
   ]
  },
  {
   "cell_type": "code",
   "execution_count": 53,
   "metadata": {},
   "outputs": [],
   "source": [
    "ecar1.setbattery_size(150)"
   ]
  },
  {
   "cell_type": "code",
   "execution_count": 54,
   "metadata": {},
   "outputs": [
    {
     "name": "stdout",
     "output_type": "stream",
     "text": [
      "the electric car battery size is 150\n"
     ]
    }
   ],
   "source": [
    "ecar1.getbattery_size()"
   ]
  },
  {
   "cell_type": "code",
   "execution_count": 66,
   "metadata": {},
   "outputs": [],
   "source": [
    "#when attributes and behaviours becomes longer we made the class of that attribute and call object of that attribute in child class\n",
    "#but that class of attribute in not a child class\n",
    "#for example we made class of battery\n",
    "#but battery is not a child class of electric car as {(battery \"is a\" car) or (car \"is a \" battery)} (false)\n",
    "#thats why not child class as false"
   ]
  },
  {
   "cell_type": "code",
   "execution_count": 90,
   "metadata": {},
   "outputs": [],
   "source": [
    "class Battery():\n",
    "    def __init__(self,size,amp,company):\n",
    "        self.batterySize=size\n",
    "        self.batteryamp=amp\n",
    "        self.manufacturingcompany=company\n",
    "        \n",
    "      \n",
    "    def getbattery_size(self):\n",
    "        print(f\"the electric car battery size is {self.battery}\")\n",
    "        \n",
    "    def setbattery_size(self,newbattery_size):\n",
    "        self.battery = newbattery_size\n",
    "        \n",
    "    \n",
    "    "
   ]
  },
  {
   "cell_type": "code",
   "execution_count": 91,
   "metadata": {},
   "outputs": [],
   "source": [
    "class Electriccar0(car):\n",
    "    def __init__(self,make,model,year):\n",
    "        super(). __init__(make,model,year)#used to initialize and directly availaible in electriccar class not to again assign\n",
    "        #means self.make\n",
    "        #self.model......\n",
    "        #the above attributes are inherited from parent class\n",
    "        self.engine = \"2000cc\"\n",
    "        self.software = \"Android\"\n",
    "        #these are the attributes of child class\n",
    "        self.battery=Battery(100,\"12 amp\",\"phoenix\")\n",
    "    \n",
    "    def getfueltankcapacity(self):\n",
    "        print(\"Electric car has no fuel tank\")\n",
    "        "
   ]
  },
  {
   "cell_type": "code",
   "execution_count": 97,
   "metadata": {},
   "outputs": [],
   "source": [
    "ecar2=Electriccar0(\"mu_ra_wa\",\"ra1wa\",\"2026\")"
   ]
  },
  {
   "cell_type": "code",
   "execution_count": 100,
   "metadata": {},
   "outputs": [
    {
     "name": "stdout",
     "output_type": "stream",
     "text": [
      "the electric car battery size is 150\n"
     ]
    }
   ],
   "source": [
    "ecar2.battery.getbattery_size()"
   ]
  },
  {
   "cell_type": "code",
   "execution_count": 105,
   "metadata": {},
   "outputs": [],
   "source": [
    "class Engine():\n",
    "    def __init__(self,cc_value,company,weight):\n",
    "        self.engine_cc_value=cc_value\n",
    "        self.engine_company=company\n",
    "        self.engine_weight=weight\n",
    "        \n",
    "    def getbattery_weight(self):\n",
    "        print(f\"the battery weight is {self.engine_weight}\")\n",
    "        \n",
    "    def getcompany_name(self):\n",
    "        print(f\"the engine company name is {self.engine_company}\")\n",
    "        \n",
    "    def getcc_value(self):\n",
    "        print(f\"the engine cc value is {self.engine_cc_value}\")"
   ]
  },
  {
   "cell_type": "code",
   "execution_count": 115,
   "metadata": {},
   "outputs": [],
   "source": [
    "class Electriccar02(car):\n",
    "    def __init__(self,make,model,year):\n",
    "        super(). __init__(make,model,year)#used to initialize and directly availaible in electriccar class not to again assign\n",
    "        #means self.make\n",
    "        #self.model......\n",
    "        #the above attributes are inherited from parent class\n",
    "        self.engine = Engine(\"1600\",\"murawa\",\"20kg\")#object of class engine\n",
    "        self.software = \"Android\"\n",
    "        #these are the attributes of child class\n",
    "        self.battery=Battery(100,\"12 amp\",\"phoenix\")#object of class of battery\n",
    "    \n",
    "    def getfueltankcapacity(self):\n",
    "        print(\"Electric car has no fuel tank\")\n",
    "        "
   ]
  },
  {
   "cell_type": "code",
   "execution_count": 116,
   "metadata": {},
   "outputs": [],
   "source": [
    "ecar3=Electriccar02(\"mu_ra_wa\",\"ra1wa\",\"2026\")"
   ]
  },
  {
   "cell_type": "code",
   "execution_count": 117,
   "metadata": {},
   "outputs": [
    {
     "name": "stdout",
     "output_type": "stream",
     "text": [
      "the engine cc value is 1600\n"
     ]
    }
   ],
   "source": [
    "ecar3.engine.getcc_value()"
   ]
  },
  {
   "cell_type": "code",
   "execution_count": 118,
   "metadata": {},
   "outputs": [
    {
     "name": "stdout",
     "output_type": "stream",
     "text": [
      "the engine company name is murawa\n"
     ]
    }
   ],
   "source": [
    "ecar3.engine.getcompany_name()"
   ]
  },
  {
   "cell_type": "markdown",
   "metadata": {},
   "source": [
    "# file handling"
   ]
  },
  {
   "cell_type": "code",
   "execution_count": 120,
   "metadata": {},
   "outputs": [],
   "source": [
    "#with open reads file and close it automatically\n",
    "#syntax\n",
    "#with open(\"file name\",\"mode(write(w...)\") as file(place holder like as m etc:\n"
   ]
  },
  {
   "cell_type": "code",
   "execution_count": 125,
   "metadata": {},
   "outputs": [
    {
     "name": "stdout",
     "output_type": "stream",
     "text": [
      "I am studying AI\n",
      "+++++\n",
      "\n"
     ]
    }
   ],
   "source": [
    "with open(\"Saylani.txt\",\"w\") as f:#this file create in root directory means the folder i am working in like python folder\n",
    "    f.write(\"I am studying AI\")\n",
    "    \n",
    "with open(\"saylani.txt\",\"r\") as reader:\n",
    "    print(reader.read())\n",
    "    print(\"+++++\")\n",
    "    print(reader.read())#this time it prints nothing means it reads nothing as no material left for reading\n",
    "    \n",
    "    "
   ]
  },
  {
   "cell_type": "code",
   "execution_count": 126,
   "metadata": {},
   "outputs": [
    {
     "name": "stdout",
     "output_type": "stream",
     "text": [
      "I am studying AI\n",
      "+++++\n",
      "I am studying AI\n"
     ]
    }
   ],
   "source": [
    "with open(\"Saylani.txt\",\"w\") as f:#this file create in root directory means the folder i am working in like python folder\n",
    "    f.write(\"I am studying AI\")\n",
    "    \n",
    "with open(\"saylani.txt\",\"r\") as reader:\n",
    "    print(reader.read())\n",
    "    print(\"+++++\")\n",
    "    reader.seek(0)#cursor moves to o index(at start)\n",
    "    print(reader.read())#this time it will read as cursor is on begining\n",
    "    \n",
    "    "
   ]
  },
  {
   "cell_type": "code",
   "execution_count": 127,
   "metadata": {},
   "outputs": [
    {
     "name": "stdout",
     "output_type": "stream",
     "text": [
      "+++++\n"
     ]
    }
   ],
   "source": [
    "with open(\"Saylani.txt\",\"w\") as f:#this file create in root directory means the folder i am working in like python folder\n",
    "    f.write(\"I am studying AI\")\n",
    "    \n",
    "with open(\"saylani.txt\",\"w\") as f:#this will overwrite on previous writing as we exit from above function.this is not good\n",
    "    f.write(\"+++++\")\n",
    "    \n",
    "with open(\"saylani.txt\",\"r\") as reader:\n",
    "    print(reader.read())\n",
    "    \n",
    "    "
   ]
  },
  {
   "cell_type": "code",
   "execution_count": 128,
   "metadata": {},
   "outputs": [],
   "source": [
    "#write function overwrite after exiting from function\n",
    "#to get away from overwrite we used append function"
   ]
  },
  {
   "cell_type": "code",
   "execution_count": 132,
   "metadata": {},
   "outputs": [
    {
     "name": "stdout",
     "output_type": "stream",
     "text": [
      "+++++this will not overwritethis will not overwritethis will not overwrite\n"
     ]
    }
   ],
   "source": [
    "with open(\"saylani.txt\",\"a\") as file:\n",
    "    file.write(\"this will not overwrite\")\n",
    "    \n",
    "with open(\"saylani.txt\",\"r\") as m:\n",
    "    print(m.read())"
   ]
  },
  {
   "cell_type": "code",
   "execution_count": 133,
   "metadata": {},
   "outputs": [],
   "source": [
    "#append also creat file just like write\n"
   ]
  },
  {
   "cell_type": "code",
   "execution_count": 134,
   "metadata": {},
   "outputs": [
    {
     "name": "stdout",
     "output_type": "stream",
     "text": [
      "append also creates file\n"
     ]
    }
   ],
   "source": [
    "with open(\"muneeb.txt\",\"a\") as f:\n",
    "    f.write(\"append also creates file\")\n",
    "    \n",
    "with open(\"muneeb.txt\",\"r\") as n:\n",
    "    print(n.read())"
   ]
  },
  {
   "cell_type": "code",
   "execution_count": 135,
   "metadata": {},
   "outputs": [],
   "source": [
    "#\"r+\" read and write both\n",
    "#it does not automatically creats a file\n",
    "#it will also overwrite"
   ]
  },
  {
   "cell_type": "code",
   "execution_count": 139,
   "metadata": {},
   "outputs": [
    {
     "name": "stdout",
     "output_type": "stream",
     "text": [
      " creates file\n"
     ]
    }
   ],
   "source": [
    "with open(\"muneeb.txt\",\"r+\") as a:\n",
    "    a.write(\"hello world\")#it will overwrite \"append also creates file\" \n",
    "    print(a.read())"
   ]
  },
  {
   "cell_type": "code",
   "execution_count": 140,
   "metadata": {},
   "outputs": [],
   "source": [
    "#explore readlines,readline,writelines,writeline"
   ]
  },
  {
   "cell_type": "code",
   "execution_count": 141,
   "metadata": {},
   "outputs": [],
   "source": [
    "#read line use for line by lne reading\n",
    "#it gives one complete line.\n",
    "#docstring is used to understand document\n"
   ]
  },
  {
   "cell_type": "code",
   "execution_count": 142,
   "metadata": {},
   "outputs": [],
   "source": [
    "print?"
   ]
  },
  {
   "cell_type": "code",
   "execution_count": null,
   "metadata": {},
   "outputs": [],
   "source": []
  }
 ],
 "metadata": {
  "kernelspec": {
   "display_name": "Python 3",
   "language": "python",
   "name": "python3"
  },
  "language_info": {
   "codemirror_mode": {
    "name": "ipython",
    "version": 3
   },
   "file_extension": ".py",
   "mimetype": "text/x-python",
   "name": "python",
   "nbconvert_exporter": "python",
   "pygments_lexer": "ipython3",
   "version": "3.7.3"
  }
 },
 "nbformat": 4,
 "nbformat_minor": 2
}
