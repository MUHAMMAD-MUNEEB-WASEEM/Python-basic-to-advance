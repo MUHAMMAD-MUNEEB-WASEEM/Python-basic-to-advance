{
 "cells": [
  {
   "cell_type": "code",
   "execution_count": 19,
   "metadata": {},
   "outputs": [],
   "source": [
    "#object oriented programming\n",
    "#\"every thing in our surrounding is an object\"\n",
    "#object or instance(uska part ya uss se derive hua hona) and jiska woh instance hai woh khud class hai\n",
    "#properties of object is called attributes and in [rogramming it is variables\n",
    "#the work object performed is called behaviours and in programming it is called functions?methods.\n",
    "#class is the map of thing which you want to make and object are its copies.\n",
    "#__(this double underscore is called dander)\n",
    "#syntax:\n",
    "#class Patient():\n",
    "#def (space)__init__(self,name,age,gender,disease)these are the classes\n",
    "#in other languages this function is called constructor and in python it is called initializer or init"
   ]
  },
  {
   "cell_type": "code",
   "execution_count": 66,
   "metadata": {},
   "outputs": [],
   "source": [
    "class Patient():\n",
    "    def __init__(self,name,age,gender,disease):\n",
    "        #constructor?initializer:\n",
    "        #attributes >>> variables:\n",
    "        #behaviours >>> functions/methods:\n",
    "        ####Attributes####\n",
    "        self.name = name\n",
    "        self.age = age\n",
    "        self.gender = gender\n",
    "        self.disease = disease"
   ]
  },
  {
   "cell_type": "code",
   "execution_count": 67,
   "metadata": {},
   "outputs": [],
   "source": [
    "p1 = Patient(\"Gabbar\",50,\"Male\",\"Aids\")"
   ]
  },
  {
   "cell_type": "code",
   "execution_count": 68,
   "metadata": {},
   "outputs": [],
   "source": [
    "p2=Patient(\"Samba\",45,\"male\",\"malaria\")#object"
   ]
  },
  {
   "cell_type": "code",
   "execution_count": 69,
   "metadata": {},
   "outputs": [
    {
     "data": {
      "text/plain": [
       "50"
      ]
     },
     "execution_count": 69,
     "metadata": {},
     "output_type": "execute_result"
    }
   ],
   "source": [
    "p1.age\n"
   ]
  },
  {
   "cell_type": "code",
   "execution_count": 70,
   "metadata": {},
   "outputs": [],
   "source": [
    "class Student():\n",
    "    def __init__(sarkaar,name,age,gender,level):\n",
    "        sarkaar.name = name\n",
    "        sarkaar.age = age\n",
    "        sarkaar.gender = gender\n",
    "        sarkaar.level = level"
   ]
  },
  {
   "cell_type": "code",
   "execution_count": 25,
   "metadata": {},
   "outputs": [],
   "source": [
    "st1=Student(\"ammar\",20,\"male\",4)"
   ]
  },
  {
   "cell_type": "code",
   "execution_count": 26,
   "metadata": {},
   "outputs": [
    {
     "data": {
      "text/plain": [
       "20"
      ]
     },
     "execution_count": 26,
     "metadata": {},
     "output_type": "execute_result"
    }
   ],
   "source": [
    "st1.age"
   ]
  },
  {
   "cell_type": "code",
   "execution_count": 27,
   "metadata": {},
   "outputs": [
    {
     "data": {
      "text/plain": [
       "4"
      ]
     },
     "execution_count": 27,
     "metadata": {},
     "output_type": "execute_result"
    }
   ],
   "source": [
    "st1.level"
   ]
  },
  {
   "cell_type": "code",
   "execution_count": null,
   "metadata": {},
   "outputs": [],
   "source": []
  },
  {
   "cell_type": "code",
   "execution_count": 28,
   "metadata": {},
   "outputs": [],
   "source": [
    "class Patient():\n",
    "    def __init__(self,name,age,gender,disease1):#attribute\n",
    "        #constructor?initializer:\n",
    "        #attributes >>> variables:\n",
    "        #behaviours >>> functions/methods:\n",
    "        ####Attributes####\n",
    "        self.name1 = name#instance\n",
    "        self.age1 = age\n",
    "        self.gender1 = gender\n",
    "        self.disease1 = disease"
   ]
  },
  {
   "cell_type": "code",
   "execution_count": 29,
   "metadata": {},
   "outputs": [],
   "source": [
    "st1=Student(\"ammar\",20,\"male\",4)"
   ]
  },
  {
   "cell_type": "code",
   "execution_count": 30,
   "metadata": {},
   "outputs": [
    {
     "data": {
      "text/plain": [
       "'ammar'"
      ]
     },
     "execution_count": 30,
     "metadata": {},
     "output_type": "execute_result"
    }
   ],
   "source": [
    "st1.name"
   ]
  },
  {
   "cell_type": "code",
   "execution_count": 31,
   "metadata": {},
   "outputs": [],
   "source": [
    "class Dog():\n",
    "    \"\"\"A simple attempt to model a dog\"\"\"\n",
    "    def __init__(self,name,age):\n",
    "        \"\"\"Initializer name and age attributes\"\"\"\n",
    "        self.name = name\n",
    "        self.age = age\n",
    "    def sit(self):\n",
    "        \"\"\"Simulate a dog sitting in response to a command\"\"\"\n",
    "        print(self.name.title() + \"is now sitting\")\n",
    "    def roll_over(self):\n",
    "        \"\"\"simulate rolling over in response to a command\"\"\"\n",
    "        print(self.name.upper() + \" rolled over!\")"
   ]
  },
  {
   "cell_type": "code",
   "execution_count": 32,
   "metadata": {},
   "outputs": [],
   "source": [
    "d1 = Dog(\"puppy\",4)"
   ]
  },
  {
   "cell_type": "code",
   "execution_count": 33,
   "metadata": {},
   "outputs": [
    {
     "name": "stdout",
     "output_type": "stream",
     "text": [
      "Puppyis now sitting\n"
     ]
    }
   ],
   "source": [
    "d1.sit()"
   ]
  },
  {
   "cell_type": "code",
   "execution_count": 34,
   "metadata": {},
   "outputs": [],
   "source": [
    "d2 = Dog(\"tomy\",5)"
   ]
  },
  {
   "cell_type": "code",
   "execution_count": 35,
   "metadata": {},
   "outputs": [
    {
     "name": "stdout",
     "output_type": "stream",
     "text": [
      "TOMY rolled over!\n"
     ]
    }
   ],
   "source": [
    "d2.roll_over()"
   ]
  },
  {
   "cell_type": "code",
   "execution_count": 78,
   "metadata": {},
   "outputs": [],
   "source": [
    "class Restaurant():\n",
    "    def __init__(self,name,cuisine_type):\n",
    "        self.name = name\n",
    "        self.cuisine_type = cuisine_type\n",
    "    def describe_restaurant(self):#function or method\n",
    "        print(f\"The name of restaurant is {self.name.title()}\")\n",
    "        print(self.cuisine_type.title())\n",
    "    def open_restaurant(self):\n",
    "        print(f\"{self.name} Restaurant is open\")"
   ]
  },
  {
   "cell_type": "code",
   "execution_count": 79,
   "metadata": {},
   "outputs": [],
   "source": [
    "re=Restaurant(\"muneeb\",\"asian\")"
   ]
  },
  {
   "cell_type": "code",
   "execution_count": 80,
   "metadata": {},
   "outputs": [
    {
     "name": "stdout",
     "output_type": "stream",
     "text": [
      "The name of restaurant is Muneeb\n",
      "Asian\n"
     ]
    }
   ],
   "source": [
    "re.describe_restaurant()"
   ]
  },
  {
   "cell_type": "code",
   "execution_count": 81,
   "metadata": {},
   "outputs": [
    {
     "name": "stdout",
     "output_type": "stream",
     "text": [
      "muneeb Restaurant is open\n"
     ]
    }
   ],
   "source": [
    "re.open_restaurant()"
   ]
  },
  {
   "cell_type": "code",
   "execution_count": 82,
   "metadata": {},
   "outputs": [],
   "source": [
    "r1 = Restaurant(\"Piaic\",\"ai\")\n",
    "r2 = Restaurant(\"python\",\"oops\")"
   ]
  },
  {
   "cell_type": "code",
   "execution_count": 83,
   "metadata": {},
   "outputs": [
    {
     "name": "stdout",
     "output_type": "stream",
     "text": [
      "The name of restaurant is Piaic\n",
      "Ai\n"
     ]
    }
   ],
   "source": [
    "r1.describe_restaurant()"
   ]
  },
  {
   "cell_type": "code",
   "execution_count": 84,
   "metadata": {},
   "outputs": [],
   "source": [
    "class User():\n",
    "    def __init__(self,first_name,last_name,age,gender):\n",
    "        self.first_name= first_name\n",
    "        self.last_name = last_name\n",
    "        self.age = age\n",
    "        self.gender = gender\n",
    "    def describe_restaurant(self):\n",
    "        print(self.first_name.title())\n",
    "        print(self.last_name.title())\n",
    "        print(self.age.title())\n",
    "        print(self.gender.title())\n",
    "    def greet_user(self):\n",
    "        print(f\"{self.first_name} welcome\")\n",
    "        "
   ]
  },
  {
   "cell_type": "code",
   "execution_count": 85,
   "metadata": {},
   "outputs": [],
   "source": [
    "re1=User(\"muneeb\",\"waseem\",\"19\",\"male\")"
   ]
  },
  {
   "cell_type": "code",
   "execution_count": 86,
   "metadata": {},
   "outputs": [
    {
     "name": "stdout",
     "output_type": "stream",
     "text": [
      "Muneeb\n",
      "Waseem\n",
      "19\n",
      "Male\n"
     ]
    }
   ],
   "source": [
    "re1.describe_restaurant()"
   ]
  },
  {
   "cell_type": "code",
   "execution_count": 88,
   "metadata": {},
   "outputs": [
    {
     "name": "stdout",
     "output_type": "stream",
     "text": [
      "muneeb welcome\n"
     ]
    }
   ],
   "source": [
    "re1.greet_user()"
   ]
  },
  {
   "cell_type": "code",
   "execution_count": 1,
   "metadata": {},
   "outputs": [],
   "source": [
    "class User():\n",
    "    def __init__(self,first_name,last_name,age,gender):\n",
    "        self.first_name= first_name\n",
    "        self.last_name = last_name\n",
    "        self.age = age\n",
    "        self.gender = gender\n",
    "        self.login_attempts = 0\n",
    "        \n",
    "    def describe_restaurant(self):\n",
    "        print(self.first_name.title())\n",
    "        print(self.last_name.title())\n",
    "        print(self.age.title())\n",
    "        print(self.gender.title())\n",
    "    def greet_user(self):\n",
    "        print(f\"{self.first_name} welcome\")\n",
    "        \n",
    "    def setincrement_login_attempts(self,attempts):\n",
    "        self.login_attempts += attempts\n",
    "    \n",
    "    def getlogin_attempts(self):\n",
    "        print(f\"{self.name} has made {self.login_attempts} attempts\")\n",
    "        "
   ]
  },
  {
   "cell_type": "code",
   "execution_count": 5,
   "metadata": {},
   "outputs": [],
   "source": [
    "us=User(\"muneeb\",\"waseem\",\"19\",\"male\")"
   ]
  },
  {
   "cell_type": "code",
   "execution_count": 6,
   "metadata": {},
   "outputs": [
    {
     "name": "stdout",
     "output_type": "stream",
     "text": [
      "Muneeb\n",
      "Waseem\n",
      "19\n",
      "Male\n"
     ]
    }
   ],
   "source": [
    "us.describe_restaurant()"
   ]
  },
  {
   "cell_type": "code",
   "execution_count": null,
   "metadata": {},
   "outputs": [],
   "source": []
  },
  {
   "cell_type": "code",
   "execution_count": 2,
   "metadata": {},
   "outputs": [],
   "source": [
    "class car():\n",
    "    def __init__(self,make,model,year):\n",
    "        self.make = make\n",
    "        self.model = model\n",
    "        self.year = year\n",
    "    def get_descriptive_name(self):\n",
    "        \n",
    "        long_name = str(self.year) + \" \" + self.make + \" \" + self.model\n",
    "        return long_name.title()\n",
    "    "
   ]
  },
  {
   "cell_type": "code",
   "execution_count": 7,
   "metadata": {},
   "outputs": [
    {
     "name": "stdout",
     "output_type": "stream",
     "text": [
      "2016 Audi A4\n"
     ]
    }
   ],
   "source": [
    "my_new_car = car(\"audi\",\"a4\",2016)\n",
    "print(my_new_car.get_descriptive_name())"
   ]
  },
  {
   "cell_type": "markdown",
   "metadata": {},
   "source": [
    "# SET DEFAULT ATTRIBUTE"
   ]
  },
  {
   "cell_type": "code",
   "execution_count": 8,
   "metadata": {},
   "outputs": [],
   "source": [
    "class car():\n",
    "    def __init__(self,make,model,year):\n",
    "        self.make = make\n",
    "        self.model = model\n",
    "        self.year = year\n",
    "        self.odometer_reading = 0#this is not mandatory\n",
    "    def get_descriptive_name(self):\n",
    "        \n",
    "        long_name = str(self.year) + \" \" + self.make + \" \" + self.model\n",
    "        return long_name.title()\n",
    "    def read_odometer(self):\n",
    "        print(\"this car has \" + str(self.odometer_reading) + \" mile on it\")\n",
    "    "
   ]
  },
  {
   "cell_type": "code",
   "execution_count": 9,
   "metadata": {},
   "outputs": [
    {
     "name": "stdout",
     "output_type": "stream",
     "text": [
      "2016 Audi A4\n",
      "this car has 0 mile on it\n"
     ]
    }
   ],
   "source": [
    "my_new_car = car(\"audi\",\"a4\",2016)\n",
    "print(my_new_car.get_descriptive_name())\n",
    "my_new_car.read_odometer()"
   ]
  },
  {
   "cell_type": "code",
   "execution_count": 10,
   "metadata": {},
   "outputs": [
    {
     "name": "stdout",
     "output_type": "stream",
     "text": [
      "this car has 0 mile on it\n",
      "this car has 0 mile on it\n"
     ]
    }
   ],
   "source": [
    "my_new_car = car(\"audi\",\"a4\",2016)\n",
    "my_new_car.read_odometer()\n",
    "yourcar=car(\"abcd\",\"xyz\",2019)\n",
    "yourcar.read_odometer()"
   ]
  },
  {
   "cell_type": "markdown",
   "metadata": {},
   "source": [
    "# MODIFYING ATTRIBUTE VALUES"
   ]
  },
  {
   "cell_type": "code",
   "execution_count": 11,
   "metadata": {},
   "outputs": [],
   "source": [
    "#first method=directly modify\n",
    "#second method=function k through"
   ]
  },
  {
   "cell_type": "code",
   "execution_count": 12,
   "metadata": {},
   "outputs": [],
   "source": [
    "my_new_car.odometer_reading=45#Directly update value"
   ]
  },
  {
   "cell_type": "code",
   "execution_count": 13,
   "metadata": {},
   "outputs": [
    {
     "name": "stdout",
     "output_type": "stream",
     "text": [
      "this car has 45 mile on it\n"
     ]
    }
   ],
   "source": [
    "my_new_car.read_odometer()#this will only update value of my_new_car "
   ]
  },
  {
   "cell_type": "code",
   "execution_count": 14,
   "metadata": {},
   "outputs": [
    {
     "name": "stdout",
     "output_type": "stream",
     "text": [
      "this car has 0 mile on it\n"
     ]
    }
   ],
   "source": [
    "yourcar.read_odometer()"
   ]
  },
  {
   "cell_type": "code",
   "execution_count": 15,
   "metadata": {},
   "outputs": [],
   "source": [
    "yourcar.odometer_reading=100"
   ]
  },
  {
   "cell_type": "code",
   "execution_count": 16,
   "metadata": {},
   "outputs": [
    {
     "name": "stdout",
     "output_type": "stream",
     "text": [
      "this car has 100 mile on it\n"
     ]
    }
   ],
   "source": [
    "yourcar.read_odometer()"
   ]
  },
  {
   "cell_type": "code",
   "execution_count": null,
   "metadata": {},
   "outputs": [],
   "source": []
  },
  {
   "cell_type": "code",
   "execution_count": 17,
   "metadata": {},
   "outputs": [],
   "source": [
    "class car():\n",
    "    def __init__(self,make,model,year):\n",
    "        self.make = make\n",
    "        self.model = model\n",
    "        self.year = year\n",
    "        self.odometer_reading = 0#this is not mandatory\n",
    "    def get_descriptive_name(self):\n",
    "        \n",
    "        long_name = str(self.year) + \" \" + self.make + \" \" + self.model\n",
    "        return long_name.title()\n",
    "    def read_odometer(self):\n",
    "        print(\"this car has \" + str(self.odometer_reading) + \" mile on it\")\n",
    "    def update_odometer(self,mileage):#value updated through function\n",
    "        self.odometer_reading=mileage"
   ]
  },
  {
   "cell_type": "code",
   "execution_count": 18,
   "metadata": {},
   "outputs": [],
   "source": [
    "abccar=car(\"hello\",\"car\",2019)"
   ]
  },
  {
   "cell_type": "code",
   "execution_count": 19,
   "metadata": {},
   "outputs": [],
   "source": [
    "xyzcar=car(\"bye\",\"travel\",2019)"
   ]
  },
  {
   "cell_type": "code",
   "execution_count": 20,
   "metadata": {},
   "outputs": [
    {
     "name": "stdout",
     "output_type": "stream",
     "text": [
      "this car has 0 mile on it\n"
     ]
    }
   ],
   "source": [
    "abccar.read_odometer()"
   ]
  },
  {
   "cell_type": "code",
   "execution_count": 21,
   "metadata": {},
   "outputs": [
    {
     "name": "stdout",
     "output_type": "stream",
     "text": [
      "this car has 0 mile on it\n"
     ]
    }
   ],
   "source": [
    "xyzcar.read_odometer()"
   ]
  },
  {
   "cell_type": "code",
   "execution_count": 22,
   "metadata": {},
   "outputs": [],
   "source": [
    "abccar.update_odometer(50)"
   ]
  },
  {
   "cell_type": "code",
   "execution_count": 23,
   "metadata": {},
   "outputs": [
    {
     "name": "stdout",
     "output_type": "stream",
     "text": [
      "this car has 50 mile on it\n"
     ]
    }
   ],
   "source": [
    "abccar.read_odometer()"
   ]
  },
  {
   "cell_type": "code",
   "execution_count": 24,
   "metadata": {},
   "outputs": [],
   "source": [
    "class car():\n",
    "    def __init__(self,make,model,year):\n",
    "        self.make = make\n",
    "        self.model = model\n",
    "        self.year = year\n",
    "        self.odometer_reading = 0#this is not mandatory\n",
    "    def get_descriptive_name(self):\n",
    "        \n",
    "        long_name = str(self.year) + \" \" + self.make + \" \" + self.model\n",
    "        return long_name.title()\n",
    "    def read_odometer(self):\n",
    "        print(\"this car has \" + str(self.odometer_reading) + \" mile on it\")\n",
    "    def update_odometer(self,mileage):\n",
    "        if mileage >= self.odometer_reading:\n",
    "            self.odometer_reading=mileage\n",
    "        else:\n",
    "            print(\"you can't roll back an odometer\")"
   ]
  },
  {
   "cell_type": "code",
   "execution_count": 25,
   "metadata": {},
   "outputs": [],
   "source": [
    "class car():\n",
    "    def __init__(self,make,model,year):\n",
    "        self.make = make\n",
    "        self.model = model\n",
    "        self.year = year\n",
    "        self.odometer_reading = 0#this is not mandatory\n",
    "    def get_descriptive_name(self):\n",
    "        \n",
    "        long_name = str(self.year) + \" \" + self.make + \" \" + self.model\n",
    "        return long_name.title()\n",
    "    def read_odometer(self):\n",
    "        print(\"this car has \" + str(self.odometer_reading) + \" mile on it\")\n",
    "    def update_odometer(self,mileage):#value updated through function\n",
    "        self.odometer_reading=mileage\n",
    "    def increment_odometer(self,miles):\n",
    "        self.odometer_reading += miles #update value by considering initial value"
   ]
  },
  {
   "cell_type": "code",
   "execution_count": 26,
   "metadata": {},
   "outputs": [
    {
     "name": "stdout",
     "output_type": "stream",
     "text": [
      "this car has 50 mile on it\n"
     ]
    }
   ],
   "source": [
    "abccar.read_odometer()"
   ]
  },
  {
   "cell_type": "code",
   "execution_count": 27,
   "metadata": {},
   "outputs": [
    {
     "ename": "AttributeError",
     "evalue": "'car' object has no attribute 'increment_odometer'",
     "output_type": "error",
     "traceback": [
      "\u001b[1;31m---------------------------------------------------------------------------\u001b[0m",
      "\u001b[1;31mAttributeError\u001b[0m                            Traceback (most recent call last)",
      "\u001b[1;32m<ipython-input-27-a4d188f45d4b>\u001b[0m in \u001b[0;36m<module>\u001b[1;34m\u001b[0m\n\u001b[1;32m----> 1\u001b[1;33m \u001b[0mabccar\u001b[0m\u001b[1;33m.\u001b[0m\u001b[0mincrement_odometer\u001b[0m\u001b[1;33m(\u001b[0m\u001b[1;36m60\u001b[0m\u001b[1;33m)\u001b[0m\u001b[1;33m\u001b[0m\u001b[1;33m\u001b[0m\u001b[0m\n\u001b[0m",
      "\u001b[1;31mAttributeError\u001b[0m: 'car' object has no attribute 'increment_odometer'"
     ]
    }
   ],
   "source": [
    "abccar.increment_odometer(60)"
   ]
  },
  {
   "cell_type": "code",
   "execution_count": 28,
   "metadata": {},
   "outputs": [
    {
     "name": "stdout",
     "output_type": "stream",
     "text": [
      "this car has 50 mile on it\n"
     ]
    }
   ],
   "source": [
    "abccar.read_odometer()"
   ]
  },
  {
   "cell_type": "code",
   "execution_count": null,
   "metadata": {},
   "outputs": [],
   "source": []
  },
  {
   "cell_type": "code",
   "execution_count": null,
   "metadata": {},
   "outputs": [],
   "source": []
  },
  {
   "cell_type": "code",
   "execution_count": null,
   "metadata": {},
   "outputs": [],
   "source": []
  },
  {
   "cell_type": "code",
   "execution_count": null,
   "metadata": {},
   "outputs": [],
   "source": []
  },
  {
   "cell_type": "code",
   "execution_count": null,
   "metadata": {},
   "outputs": [],
   "source": []
  },
  {
   "cell_type": "code",
   "execution_count": null,
   "metadata": {},
   "outputs": [],
   "source": []
  },
  {
   "cell_type": "code",
   "execution_count": null,
   "metadata": {},
   "outputs": [],
   "source": []
  }
 ],
 "metadata": {
  "kernelspec": {
   "display_name": "Python 3",
   "language": "python",
   "name": "python3"
  },
  "language_info": {
   "codemirror_mode": {
    "name": "ipython",
    "version": 3
   },
   "file_extension": ".py",
   "mimetype": "text/x-python",
   "name": "python",
   "nbconvert_exporter": "python",
   "pygments_lexer": "ipython3",
   "version": "3.7.3"
  }
 },
 "nbformat": 4,
 "nbformat_minor": 2
}
