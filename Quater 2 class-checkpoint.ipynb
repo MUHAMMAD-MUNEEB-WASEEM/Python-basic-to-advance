{
 "cells": [
  {
   "cell_type": "code",
   "execution_count": 1,
   "metadata": {},
   "outputs": [
    {
     "name": "stdout",
     "output_type": "stream",
     "text": [
      "[ 2  4  6  8 10]\n",
      "normal list\n"
     ]
    }
   ],
   "source": [
    "#array size of numpy cannot be increased  but normal list size can be increased using append\n",
    "#np.zeros create list of elments of required numbers or size \n",
    "#np.ones produce array of one \n",
    "#np.empty produce arrays by allocating new memory\n",
    "#np.arrange():\n",
    "import numpy as np\n",
    "lst = [1,2,3,4,5]\n",
    "nplist = np.array([1,2,3,4,5])\n",
    "print(nplist*2)\n",
    "print(\"normal list\")\n",
    "\n"
   ]
  },
  {
   "cell_type": "code",
   "execution_count": 2,
   "metadata": {},
   "outputs": [
    {
     "name": "stdout",
     "output_type": "stream",
     "text": [
      "[0. 0. 0. 0. 0.]\n"
     ]
    }
   ],
   "source": [
    "lste = np.zeros(5)\n",
    "print(lste)\n"
   ]
  },
  {
   "cell_type": "code",
   "execution_count": 3,
   "metadata": {},
   "outputs": [
    {
     "name": "stdout",
     "output_type": "stream",
     "text": [
      "[1. 1. 1. 1. 1. 1. 1. 1. 1. 1. 1. 1.]\n"
     ]
    }
   ],
   "source": [
    "lster = np.ones(12)\n",
    "print(lster)"
   ]
  },
  {
   "cell_type": "code",
   "execution_count": 4,
   "metadata": {},
   "outputs": [
    {
     "name": "stdout",
     "output_type": "stream",
     "text": [
      "[[ 0  1  2]\n",
      " [ 3  4  5]\n",
      " [ 6  7  8]\n",
      " [ 9 10 11]]\n"
     ]
    }
   ],
   "source": [
    "a = np.arange(12).reshape(4,3) #we use resphape function to identify row and column material\n",
    "print(a)"
   ]
  },
  {
   "cell_type": "code",
   "execution_count": 5,
   "metadata": {},
   "outputs": [
    {
     "data": {
      "text/plain": [
       "array([[[[0., 0., 0., 0.],\n",
       "         [0., 0., 0., 0.],\n",
       "         [0., 0., 0., 0.]],\n",
       "\n",
       "        [[0., 0., 0., 0.],\n",
       "         [0., 0., 0., 0.],\n",
       "         [0., 0., 0., 0.]]]])"
      ]
     },
     "execution_count": 5,
     "metadata": {},
     "output_type": "execute_result"
    }
   ],
   "source": [
    "np.zeros([1,2,3,4]) #create four dimensions "
   ]
  },
  {
   "cell_type": "code",
   "execution_count": 6,
   "metadata": {},
   "outputs": [
    {
     "data": {
      "text/plain": [
       "dtype('int32')"
      ]
     },
     "execution_count": 6,
     "metadata": {},
     "output_type": "execute_result"
    }
   ],
   "source": [
    "a.dtype#gives data type                                                                                                                                               "
   ]
  },
  {
   "cell_type": "code",
   "execution_count": 7,
   "metadata": {},
   "outputs": [
    {
     "data": {
      "text/plain": [
       "(4, 3)"
      ]
     },
     "execution_count": 7,
     "metadata": {},
     "output_type": "execute_result"
    }
   ],
   "source": [
    "a.shape#gives input dimension like 3rows for column"
   ]
  },
  {
   "cell_type": "code",
   "execution_count": 8,
   "metadata": {},
   "outputs": [
    {
     "data": {
      "text/plain": [
       "2"
      ]
     },
     "execution_count": 8,
     "metadata": {},
     "output_type": "execute_result"
    }
   ],
   "source": [
    "a.ndim#give no of dimensions"
   ]
  },
  {
   "cell_type": "markdown",
   "metadata": {},
   "source": [
    "# Class 2 of Quater 2"
   ]
  },
  {
   "cell_type": "code",
   "execution_count": 9,
   "metadata": {},
   "outputs": [],
   "source": [
    "a = ''''• Fast vectorized array operations for data munging and cleaning, subsetting and\n",
    "filtering, transformation, and any other kinds of computations\n",
    "• Common array algorithms like sorting, unique, and set operations\n",
    "• Efficient descriptive statistics and aggregating/summarizing data\n",
    "• Data alignment and relational data manipulations for merging and joining\n",
    "together heterogeneous datasets\n",
    "• Expressing conditional logic as array expressions instead of loops with if-elifelse branches\n",
    "• Group-wise data manipulations (aggregation, transformation, function applica‐\n",
    "tion)'''''\n"
   ]
  },
  {
   "cell_type": "code",
   "execution_count": 10,
   "metadata": {},
   "outputs": [
    {
     "name": "stdout",
     "output_type": "stream",
     "text": [
      "['Efficient', 'descriptive', 'statistics', 'and', 'aggregating/summarizing', 'data']\n"
     ]
    }
   ],
   "source": [
    "b = \"Efficient descriptive statistics and aggregating/summarizing data\"\n",
    "s = b.split()\n",
    "print(s)"
   ]
  },
  {
   "cell_type": "code",
   "execution_count": 11,
   "metadata": {},
   "outputs": [
    {
     "name": "stdout",
     "output_type": "stream",
     "text": [
      "['Efficient' 'descriptive' 'statistics' 'and' 'aggregating/summarizing'\n",
      " 'data']\n",
      "<class 'numpy.ndarray'>\n"
     ]
    }
   ],
   "source": [
    "nplist = np.array(s) # convert string text into numpy array\n",
    "print(nplist)\n",
    "print(type(nplist))"
   ]
  },
  {
   "cell_type": "code",
   "execution_count": 12,
   "metadata": {},
   "outputs": [
    {
     "name": "stdout",
     "output_type": "stream",
     "text": [
      "[\"'•\" 'Fast' 'vectorized' 'array' 'operations' 'for' 'data' 'munging'\n",
      " 'and' 'cleaning,' 'subsetting' 'and' 'filtering,' 'transformation,' 'and'\n",
      " 'any' 'other' 'kinds' 'of' 'computations' '•' 'Common' 'array'\n",
      " 'algorithms' 'like' 'sorting,' 'unique,' 'and' 'set' 'operations' '•'\n",
      " 'Efficient' 'descriptive' 'statistics' 'and' 'aggregating/summarizing'\n",
      " 'data' '•' 'Data' 'alignment' 'and' 'relational' 'data' 'manipulations'\n",
      " 'for' 'merging' 'and' 'joining' 'together' 'heterogeneous' 'datasets' '•'\n",
      " 'Expressing' 'conditional' 'logic' 'as' 'array' 'expressions' 'instead'\n",
      " 'of' 'loops' 'with' 'if-elifelse' 'branches' '•' 'Group-wise' 'data'\n",
      " 'manipulations' '(aggregation,' 'transformation,' 'function' 'applica‐'\n",
      " 'tion)']\n",
      "['Fast' 'vectorized' 'array' 'operations' 'for' 'data' 'munging' 'and'\n",
      " 'cleaning,' 'subsetting' 'and' 'filtering,' 'transformation,' 'and' 'any'\n",
      " 'other' 'kinds' 'of' 'computations' '•' 'Common' 'array' 'algorithms'\n",
      " 'like' 'sorting,' 'unique,' 'and' 'set' 'operations' '•' 'Efficient'\n",
      " 'descriptive' 'statistics' 'and' 'aggregating/summarizing' 'data' '•'\n",
      " 'Data' 'alignment' 'and' 'relational' 'data' 'manipulations' 'for'\n",
      " 'merging' 'and' 'joining' 'together' 'heterogeneous' 'datasets' '•'\n",
      " 'Expressing' 'conditional' 'logic' 'as' 'array' 'expressions' 'instead'\n",
      " 'of' 'loops' 'with' 'if-elifelse' 'branches' '•' 'Group-wise' 'data'\n",
      " 'manipulations' 'transformation,' 'function' 'applica‐' 'tion)']\n"
     ]
    }
   ],
   "source": [
    "c = a.split()\n",
    "d = np.array(c)\n",
    "print(d)\n",
    "print(d[d>'5'])\n",
    "    #len function is not in array numpy"
   ]
  },
  {
   "cell_type": "code",
   "execution_count": 13,
   "metadata": {},
   "outputs": [
    {
     "name": "stdout",
     "output_type": "stream",
     "text": [
      "[[ 1  4  9]\n",
      " [ 4 10 18]]\n"
     ]
    }
   ],
   "source": [
    "arr = np.array([[1,2,3],[4,5,6]]) #brodcasting is done in this code in this every element is mulitiply by other element of arry and this process is d0ne again with another array\n",
    "arr2 = np.array([1,2,3])\n",
    "arr3 = arr*arr2\n",
    "print(arr3)"
   ]
  },
  {
   "cell_type": "code",
   "execution_count": 14,
   "metadata": {},
   "outputs": [],
   "source": [
    "tex1 = \"hello allas! tony stark is dead! we can not blame his legacy.Are you his believer Mr.ammar.\"#This is junk no use of this code\n",
    "a = ['?','!',':',';']"
   ]
  },
  {
   "cell_type": "code",
   "execution_count": 15,
   "metadata": {},
   "outputs": [
    {
     "name": "stdout",
     "output_type": "stream",
     "text": [
      "[ True  True False False False  True  True False  True False False  True\n",
      " False False  True  True False False  True False  True False False False\n",
      "  True False False  True  True False  True False False False  True False\n",
      "  True  True  True False  True False  True False  True False  True False\n",
      " False False False  True False False False  True False False False  True\n",
      " False  True False False  True False  True False False False False False\n",
      " False]\n",
      "[\"'•\" 'Fast' 'for' 'data' 'and' 'and' 'and' 'any' 'of' '•' 'like' 'and'\n",
      " 'set' '•' 'and' 'data' '•' 'Data' 'and' 'data' 'for' 'and' '•' 'as' 'of'\n",
      " 'with' '•' 'data']\n"
     ]
    }
   ],
   "source": [
    "lnth = np.vectorize(len) #len is not in numpy it gives length of array\n",
    "print(lnth(d)<5) #make true and false\n",
    "print(d[lnth(d)<5])"
   ]
  },
  {
   "cell_type": "code",
   "execution_count": 16,
   "metadata": {},
   "outputs": [
    {
     "name": "stdout",
     "output_type": "stream",
     "text": [
      "[False  True  True  True  True  True]\n",
      "[ 2  3  4 56  7]\n"
     ]
    }
   ],
   "source": [
    "af = np.array([1,2,3,4,56,7])\n",
    "print(af>1)\n",
    "print(af[af>1])\n"
   ]
  },
  {
   "cell_type": "code",
   "execution_count": 17,
   "metadata": {},
   "outputs": [
    {
     "name": "stdout",
     "output_type": "stream",
     "text": [
      "[  3   3 666  44]\n"
     ]
    }
   ],
   "source": [
    "arrr = np.array([1,2,3,3,44,55,666,776,65,44,3])\n",
    "print(arrr[[2,3,6,4]])#fancy indexing"
   ]
  },
  {
   "cell_type": "code",
   "execution_count": 18,
   "metadata": {},
   "outputs": [
    {
     "data": {
      "text/plain": [
       "array([ 25000,  25000,  10000, 289839])"
      ]
     },
     "execution_count": 18,
     "metadata": {},
     "output_type": "execute_result"
    }
   ],
   "source": [
    "salary = np.array([0,-1,10000,289839])\n",
    "np.where(salary<=0,25000,salary)#if salary is less than equal to  0  then print 25000"
   ]
  },
  {
   "cell_type": "code",
   "execution_count": 19,
   "metadata": {},
   "outputs": [
    {
     "name": "stdout",
     "output_type": "stream",
     "text": [
      "[ 10  30  60 100 150 210 280]\n"
     ]
    }
   ],
   "source": [
    "arr = [10,20,30,40,50,60,70]\n",
    "arr = np.array(arr)\n",
    "print(np.cumsum(arr))#This function add previous in current value"
   ]
  },
  {
   "cell_type": "code",
   "execution_count": 20,
   "metadata": {},
   "outputs": [
    {
     "name": "stdout",
     "output_type": "stream",
     "text": [
      "[False  True  True  True  True  True  True]\n"
     ]
    }
   ],
   "source": [
    "barr = arr>15\n",
    "print(barr)"
   ]
  },
  {
   "cell_type": "code",
   "execution_count": 21,
   "metadata": {},
   "outputs": [
    {
     "name": "stdout",
     "output_type": "stream",
     "text": [
      "6\n"
     ]
    }
   ],
   "source": [
    "print(np.sum(barr))#this function print sum of bolean functions true "
   ]
  },
  {
   "cell_type": "code",
   "execution_count": 22,
   "metadata": {},
   "outputs": [
    {
     "name": "stdout",
     "output_type": "stream",
     "text": [
      "280\n"
     ]
    }
   ],
   "source": [
    "print(arr.sum())#This print sum of all elements of array"
   ]
  },
  {
   "cell_type": "code",
   "execution_count": 23,
   "metadata": {},
   "outputs": [
    {
     "name": "stdout",
     "output_type": "stream",
     "text": [
      "True True\n",
      "False True\n"
     ]
    }
   ],
   "source": [
    "print(barr.any(),arr.any())\n",
    "print(barr.all(),arr.all())"
   ]
  },
  {
   "cell_type": "code",
   "execution_count": 24,
   "metadata": {},
   "outputs": [
    {
     "name": "stdout",
     "output_type": "stream",
     "text": [
      "[10 20 30 40 50 60 70]\n"
     ]
    }
   ],
   "source": [
    "np.savez('arrays.npz',a =arr)# a is dictionary key savez store array as dictionary\n",
    "arr2 = np.load('arrays.npz')# arrays.npz is a file name we can change its directory by putting name of directory before nameof file\n",
    "print(arr2['a'])#dictionar key\n"
   ]
  },
  {
   "cell_type": "code",
   "execution_count": 25,
   "metadata": {},
   "outputs": [
    {
     "name": "stdout",
     "output_type": "stream",
     "text": [
      "c [[1 2 3]\n",
      " [4 5 6]\n",
      " [7 3 4]\n",
      " [6 7 5]]\n",
      "d [[1 2 3 7 3 4]\n",
      " [4 5 6 6 7 5]]\n"
     ]
    }
   ],
   "source": [
    "a = np.array([[1,2,3],[4,5,6]])\n",
    "b = np.array([[7,3,4],[6,7,5]])\n",
    "c =np.concatenate([a,b],axis = 0)# 0 is use for rows 1 for colums\n",
    "print(\"c\",c)\n",
    "d = np.concatenate([a,b],axis = 1)#no ofrowsremains same number of columns increases\n",
    "print(\"d\",d)"
   ]
  },
  {
   "cell_type": "code",
   "execution_count": 26,
   "metadata": {},
   "outputs": [
    {
     "name": "stdout",
     "output_type": "stream",
     "text": [
      "[[1 2 3]\n",
      " [4 5 6]\n",
      " [7 3 4]\n",
      " [6 7 5]]\n",
      "[[1 2 3 7 3 4]\n",
      " [4 5 6 6 7 5]]\n"
     ]
    }
   ],
   "source": [
    "print(np.vstack([a,b]))# for rows\n",
    "print(np.hstack([a,b]))# for columns "
   ]
  },
  {
   "cell_type": "code",
   "execution_count": 27,
   "metadata": {},
   "outputs": [
    {
     "name": "stdout",
     "output_type": "stream",
     "text": [
      "split: [array([ 1, 23]), array([ 34,   3, 423]), array([   43, 32435,    23,     5,   676,    54])]\n"
     ]
    }
   ],
   "source": [
    "a  = np.array([1,23,34,3,423,43,32435,23,5,676,54])\n",
    "print(\"split:\",np.split(a,[2,5]))#spliting array"
   ]
  },
  {
   "cell_type": "markdown",
   "metadata": {},
   "source": [
    "# CLASS 3 PIAIC QUATER 2"
   ]
  },
  {
   "cell_type": "code",
   "execution_count": 28,
   "metadata": {},
   "outputs": [
    {
     "name": "stdout",
     "output_type": "stream",
     "text": [
      "[[[ 45  46  47  48]\n",
      "  [441 442 443 444]\n",
      "  [543 544 545 546]]\n",
      "\n",
      " [[212 213 214 215]\n",
      "  [231 232 233 234]\n",
      "  [241 242 243 244]]\n",
      "\n",
      " [[311 312 313 314]\n",
      "  [551 552 553 554]\n",
      "  [541 542 543 544]]\n",
      "\n",
      " [[126 127 128 129]\n",
      "  [131 132 133 134]\n",
      "  [141 142 143 144]]]\n",
      "3 dimension (4, 3, 4) shape\n",
      "553\n",
      "144\n",
      "[[126 127 128 129]\n",
      " [131 132 133 134]\n",
      " [141 142 143 144]]\n"
     ]
    }
   ],
   "source": [
    "import numpy as np\n",
    "ndarray = np.array([[[45,46,47,48],[441,442,443,444],[543,544,545,546]],[[212,213,214,215],[231,232,233,234],[241,242,243,244]],[[311,312,313,314],[551,552,553,554],[541,542,543,544]],[[126,127,128,129],[131,132,133,134],[141,142,143,144]]])\n",
    "print(ndarray)\n",
    "print(ndarray.ndim,\"dimension\",ndarray.shape,\"shape\")\n",
    "print(ndarray[2,1,2])#matrices walla rule by sir Andrew ng\n",
    "print(ndarray[3,2,3])\n",
    "subarray  = ndarray[3]\n",
    "print(subarray)"
   ]
  },
  {
   "cell_type": "code",
   "execution_count": 29,
   "metadata": {},
   "outputs": [
    {
     "ename": "FileNotFoundError",
     "evalue": "[Errno 2] No such file or directory: 'C:/Users/ammar/Desktop/images1.jpg'",
     "output_type": "error",
     "traceback": [
      "\u001b[1;31m---------------------------------------------------------------------------\u001b[0m",
      "\u001b[1;31mFileNotFoundError\u001b[0m                         Traceback (most recent call last)",
      "\u001b[1;32m<ipython-input-29-04050b32b852>\u001b[0m in \u001b[0;36m<module>\u001b[1;34m\u001b[0m\n\u001b[0;32m     13\u001b[0m     \u001b[1;31m#input('press <ENTER> to continue')\u001b[0m\u001b[1;33m\u001b[0m\u001b[1;33m\u001b[0m\u001b[1;33m\u001b[0m\u001b[0m\n\u001b[0;32m     14\u001b[0m \u001b[0mget_ipython\u001b[0m\u001b[1;33m(\u001b[0m\u001b[1;33m)\u001b[0m\u001b[1;33m.\u001b[0m\u001b[0mrun_line_magic\u001b[0m\u001b[1;33m(\u001b[0m\u001b[1;34m'matplotlib'\u001b[0m\u001b[1;33m,\u001b[0m \u001b[1;34m'inline'\u001b[0m\u001b[1;33m)\u001b[0m\u001b[1;33m\u001b[0m\u001b[1;33m\u001b[0m\u001b[0m\n\u001b[1;32m---> 15\u001b[1;33m \u001b[0mim\u001b[0m \u001b[1;33m=\u001b[0m \u001b[0mplt\u001b[0m\u001b[1;33m.\u001b[0m\u001b[0mimread\u001b[0m\u001b[1;33m(\u001b[0m\u001b[1;34m\"C:/Users/ammar/Desktop/images1.jpg\"\u001b[0m\u001b[1;33m)\u001b[0m\u001b[1;33m\u001b[0m\u001b[1;33m\u001b[0m\u001b[0m\n\u001b[0m\u001b[0;32m     16\u001b[0m \u001b[0mprint\u001b[0m\u001b[1;33m(\u001b[0m\u001b[0mtype\u001b[0m\u001b[1;33m(\u001b[0m\u001b[0mim\u001b[0m \u001b[1;33m)\u001b[0m \u001b[1;33m)\u001b[0m\u001b[1;33m\u001b[0m\u001b[1;33m\u001b[0m\u001b[0m\n\u001b[0;32m     17\u001b[0m \u001b[0mprint\u001b[0m\u001b[1;33m(\u001b[0m\u001b[0mim\u001b[0m\u001b[1;33m.\u001b[0m\u001b[0mshape\u001b[0m\u001b[1;33m)\u001b[0m\u001b[1;33m\u001b[0m\u001b[1;33m\u001b[0m\u001b[0m\n",
      "\u001b[1;32m~\\Anaconda3\\lib\\site-packages\\matplotlib\\pyplot.py\u001b[0m in \u001b[0;36mimread\u001b[1;34m(fname, format)\u001b[0m\n\u001b[0;32m   2133\u001b[0m \u001b[1;33m@\u001b[0m\u001b[0mdocstring\u001b[0m\u001b[1;33m.\u001b[0m\u001b[0mcopy\u001b[0m\u001b[1;33m(\u001b[0m\u001b[0mmatplotlib\u001b[0m\u001b[1;33m.\u001b[0m\u001b[0mimage\u001b[0m\u001b[1;33m.\u001b[0m\u001b[0mimread\u001b[0m\u001b[1;33m)\u001b[0m\u001b[1;33m\u001b[0m\u001b[1;33m\u001b[0m\u001b[0m\n\u001b[0;32m   2134\u001b[0m \u001b[1;32mdef\u001b[0m \u001b[0mimread\u001b[0m\u001b[1;33m(\u001b[0m\u001b[0mfname\u001b[0m\u001b[1;33m,\u001b[0m \u001b[0mformat\u001b[0m\u001b[1;33m=\u001b[0m\u001b[1;32mNone\u001b[0m\u001b[1;33m)\u001b[0m\u001b[1;33m:\u001b[0m\u001b[1;33m\u001b[0m\u001b[1;33m\u001b[0m\u001b[0m\n\u001b[1;32m-> 2135\u001b[1;33m     \u001b[1;32mreturn\u001b[0m \u001b[0mmatplotlib\u001b[0m\u001b[1;33m.\u001b[0m\u001b[0mimage\u001b[0m\u001b[1;33m.\u001b[0m\u001b[0mimread\u001b[0m\u001b[1;33m(\u001b[0m\u001b[0mfname\u001b[0m\u001b[1;33m,\u001b[0m \u001b[0mformat\u001b[0m\u001b[1;33m)\u001b[0m\u001b[1;33m\u001b[0m\u001b[1;33m\u001b[0m\u001b[0m\n\u001b[0m\u001b[0;32m   2136\u001b[0m \u001b[1;33m\u001b[0m\u001b[0m\n\u001b[0;32m   2137\u001b[0m \u001b[1;33m\u001b[0m\u001b[0m\n",
      "\u001b[1;32m~\\Anaconda3\\lib\\site-packages\\matplotlib\\image.py\u001b[0m in \u001b[0;36mimread\u001b[1;34m(fname, format)\u001b[0m\n\u001b[0;32m   1415\u001b[0m                              \u001b[1;34m'with Pillow installed matplotlib can handle '\u001b[0m\u001b[1;33m\u001b[0m\u001b[1;33m\u001b[0m\u001b[0m\n\u001b[0;32m   1416\u001b[0m                              'more images' % list(handlers))\n\u001b[1;32m-> 1417\u001b[1;33m         \u001b[1;32mwith\u001b[0m \u001b[0mImage\u001b[0m\u001b[1;33m.\u001b[0m\u001b[0mopen\u001b[0m\u001b[1;33m(\u001b[0m\u001b[0mfname\u001b[0m\u001b[1;33m)\u001b[0m \u001b[1;32mas\u001b[0m \u001b[0mimage\u001b[0m\u001b[1;33m:\u001b[0m\u001b[1;33m\u001b[0m\u001b[1;33m\u001b[0m\u001b[0m\n\u001b[0m\u001b[0;32m   1418\u001b[0m             \u001b[1;32mreturn\u001b[0m \u001b[0mpil_to_array\u001b[0m\u001b[1;33m(\u001b[0m\u001b[0mimage\u001b[0m\u001b[1;33m)\u001b[0m\u001b[1;33m\u001b[0m\u001b[1;33m\u001b[0m\u001b[0m\n\u001b[0;32m   1419\u001b[0m \u001b[1;33m\u001b[0m\u001b[0m\n",
      "\u001b[1;32m~\\Anaconda3\\lib\\site-packages\\PIL\\Image.py\u001b[0m in \u001b[0;36mopen\u001b[1;34m(fp, mode)\u001b[0m\n\u001b[0;32m   2768\u001b[0m \u001b[1;33m\u001b[0m\u001b[0m\n\u001b[0;32m   2769\u001b[0m     \u001b[1;32mif\u001b[0m \u001b[0mfilename\u001b[0m\u001b[1;33m:\u001b[0m\u001b[1;33m\u001b[0m\u001b[1;33m\u001b[0m\u001b[0m\n\u001b[1;32m-> 2770\u001b[1;33m         \u001b[0mfp\u001b[0m \u001b[1;33m=\u001b[0m \u001b[0mbuiltins\u001b[0m\u001b[1;33m.\u001b[0m\u001b[0mopen\u001b[0m\u001b[1;33m(\u001b[0m\u001b[0mfilename\u001b[0m\u001b[1;33m,\u001b[0m \u001b[1;34m\"rb\"\u001b[0m\u001b[1;33m)\u001b[0m\u001b[1;33m\u001b[0m\u001b[1;33m\u001b[0m\u001b[0m\n\u001b[0m\u001b[0;32m   2771\u001b[0m         \u001b[0mexclusive_fp\u001b[0m \u001b[1;33m=\u001b[0m \u001b[1;32mTrue\u001b[0m\u001b[1;33m\u001b[0m\u001b[1;33m\u001b[0m\u001b[0m\n\u001b[0;32m   2772\u001b[0m \u001b[1;33m\u001b[0m\u001b[0m\n",
      "\u001b[1;31mFileNotFoundError\u001b[0m: [Errno 2] No such file or directory: 'C:/Users/ammar/Desktop/images1.jpg'"
     ]
    }
   ],
   "source": [
    "import numpy as np\n",
    "import matplotlib.pylab as plt\n",
    "def plti(im, h=8, **kwargs):\n",
    "    \"\"\"\n",
    "    Helper function to plot an image.\n",
    "    \"\"\"\n",
    "    y = im.shape[0]\n",
    "    x = im.shape[1]\n",
    "    w = (y/x) * h\n",
    "    plt.figure(figsize=(w,h))\n",
    "    plt.imshow(im, interpolation=\"none\", **kwargs)\n",
    "    plt.axis('off')\n",
    "    #input('press <ENTER> to continue')\n",
    "%matplotlib inline\n",
    "im = plt.imread(\"C:/Users/ammar/Desktop/images1.jpg\")\n",
    "print(type(im ) )\n",
    "print(im.shape)\n",
    "plti(im)\n",
    "im = im[50:150,100:250,0:3]    \n",
    "print(im)\n",
    "plti(im)\n",
    "#print( im.shape )\n",
    "#print(im[:5, :10, :10])\n",
    "\n",
    "#im = im[400:3800,:2000,:]    \n",
    "#plti(im)"
   ]
  },
  {
   "cell_type": "code",
   "execution_count": null,
   "metadata": {},
   "outputs": [],
   "source": [
    "import pandas as pd\n",
    "a = pd.Series([1,2,3,4,5,6,7],index = [\"mon\",\"tues\",\"wed\",\"thrs\",\"fri\",\"sat\",\"sun\"])\n",
    "print(a)\n",
    "print(a.values)\n",
    "print(a.index)"
   ]
  },
  {
   "cell_type": "code",
   "execution_count": null,
   "metadata": {},
   "outputs": [],
   "source": [
    "import numpy as np\n",
    "from  PIL import Image \n",
    "import os\n",
    "b = input(\"Enter the directory\")\n",
    "c = os.chdir(b)\n",
    "#d = input(\"Enter the folder name\")\n",
    "lst = []\n",
    "for f in os.listdir(\"./images\"):\n",
    "    if f.endswith(\".jpg\"):\n",
    "        lst.append(f)\n",
    "print(lst)\n",
    "\n",
    "file = ['1.jpg','2.jpg','3.jpg','4.jpg','5.jpg','6.jpg','7.jpg','8.jpg','9.jpg','10.jpg','11.jpg','12.jpg','13.jpg','14.jpg','15.jpg','16.jpg','17.jpg','18.jpg','19.jpg']\n",
    "x = np.array([np.array(Image.open(fname)) for fname in lst])\n",
    "print(x)"
   ]
  },
  {
   "cell_type": "code",
   "execution_count": null,
   "metadata": {},
   "outputs": [],
   "source": [
    "import numpy as np\n",
    "import PIL \n",
    "file = ['1.jpg','2.jpg','3.jpg','4.jpg','5.jpg','6.jpg','7.jpg','8.jpg','9.jpg','10.jpg','11.jpg','12.jpg','13.jpg','14.jpg','15.jpg','16.jpg','17.jpg','18.jpg','19.jpg']\n",
    "x = np.array([np.array(PIL.Image.open(fname)) for fname in file])\n",
    "print(x)"
   ]
  },
  {
   "cell_type": "code",
   "execution_count": null,
   "metadata": {},
   "outputs": [],
   "source": [
    "import numpy as np\n",
    "from PIL import Image\n",
    "file = ['1.jpg','2.jpg','3.jpg','4.jpg','5.jpg','6.jpg','7.jpg','8.jpg','9.jpg','10.jpg','11.jpg','12.jpg','13.jpg','14.jpg','15.jpg','16.jpg','17.jpg','18.jpg','19.jpg']\n",
    "z = np.zeros([1,130,200,3])\n",
    "for f in file:\n",
    "    y = np.array([np.array(Image.open(f))])\n",
    "    y = y[0:1,0:130,0:200,0:3]\n",
    "    print(y.shape)\n",
    "    z = z + y\n",
    "    print(z)   "
   ]
  },
  {
   "cell_type": "code",
   "execution_count": 31,
   "metadata": {},
   "outputs": [
    {
     "name": "stdout",
     "output_type": "stream",
     "text": [
      "mon      2\n",
      "tues     4\n",
      "wed      6\n",
      "thrs     8\n",
      "fri     10\n",
      "sat     12\n",
      "sun     14\n",
      "dtype: int64\n",
      "wed     6\n",
      "fri    10\n",
      "dtype: int64\n",
      "10\n"
     ]
    }
   ],
   "source": [
    "import pandas as pd\n",
    "a = pd.Series([1,2,3,4,5,6,7],index = [\"mon\",\"tues\",\"wed\",\"thrs\",\"fri\",\"sat\",\"sun\"])\n",
    "a = a*2\n",
    "print(a)\n",
    "print(a[[\"wed\",\"fri\"]])\n",
    "print(a[\"fri\"])"
   ]
  },
  {
   "cell_type": "code",
   "execution_count": 32,
   "metadata": {},
   "outputs": [
    {
     "name": "stdout",
     "output_type": "stream",
     "text": [
      "sindh          False\n",
      "Punjab         False\n",
      "Balochistan    False\n",
      "kpk            False\n",
      "GB              True\n",
      "dtype: bool\n",
      "sindh           3500.0\n",
      "Punjab          4550.0\n",
      "Balochistan     3200.0\n",
      "kpk             2000.0\n",
      "GB             15000.0\n",
      "dtype: float64\n"
     ]
    }
   ],
   "source": [
    "\n",
    "sdata = {\"sindh\":3500,\"Punjab\":4550,\"Balochistan\":3200,\"kpk\":2000}\n",
    "tax_by_state = pd.Series(sdata,index = [\"sindh\",\"Punjab\",\"Balochistan\",\"kpk\",\"GB\"])\n",
    "#print(tax_by_state)\n",
    "print(pd.isnull(tax_by_state))\n",
    "tax_by_state[\"GB\"]= 15000\n",
    "print(tax_by_state)"
   ]
  },
  {
   "cell_type": "code",
   "execution_count": null,
   "metadata": {},
   "outputs": [],
   "source": [
    "import pandas as pd\n",
    "apples =  pd.Series([31,2,3,4])\n",
    "oranges = pd.Series([3,4,5,6])\n",
    "lst = [1,23,45,65]\n",
    "data = {\"apples\":apples,\"oranges\":oranges,\"banana\":lst}\n",
    "print(data,\"\\n\")\n",
    "fruits_df = pd.DataFrame(data)\n",
    "print(fruits_df)"
   ]
  },
  {
   "cell_type": "code",
   "execution_count": null,
   "metadata": {},
   "outputs": [],
   "source": [
    "import pandas as pd\n",
    "apples =  pd.Series([31,2,3,4],index = ['a','b','c','d'])\n",
    "oranges = pd.Series([3,4,5,6] , index = ['aas','as','dw','wq'])\n",
    "oranges.index = apples.index\n",
    "data ={\"apples\":apples,\"oranges\":oranges}\n",
    "fruits_df = pd.DataFrame(data)\n",
    "print(fruits_df)\n",
    "print(oranges.index)"
   ]
  },
  {
   "cell_type": "code",
   "execution_count": null,
   "metadata": {},
   "outputs": [],
   "source": [
    "state = ['Ohio','Ohio','Ohio','Nevada','Nevada','Nevada']\n",
    "data = {'state':state,\n",
    "       'year': [2000,2001,2002,2001,2002,2003],\n",
    "       'pop':[1.5,1.7,3.6,4.32,2,9]}\n",
    "frame2 = pd.DataFrame(data, columns = ['year','state','pop','debt'],index = ['one','two','three','four','five','six'])\n",
    "frame2['debt'] = [1,2,3,4,5,6]\n",
    "frame2.head()#.head gives top five valuse and .tail gives last five values"
   ]
  },
  {
   "cell_type": "code",
   "execution_count": null,
   "metadata": {},
   "outputs": [],
   "source": []
  }
 ],
 "metadata": {
  "kernelspec": {
   "display_name": "Python 3",
   "language": "python",
   "name": "python3"
  },
  "language_info": {
   "codemirror_mode": {
    "name": "ipython",
    "version": 3
   },
   "file_extension": ".py",
   "mimetype": "text/x-python",
   "name": "python",
   "nbconvert_exporter": "python",
   "pygments_lexer": "ipython3",
   "version": "3.7.3"
  }
 },
 "nbformat": 4,
 "nbformat_minor": 2
}
